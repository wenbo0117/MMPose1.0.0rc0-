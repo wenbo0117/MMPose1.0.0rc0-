{
 "cells": [
  {
   "cell_type": "markdown",
   "id": "bc3d1961-9081-49c9-be56-ad0c748decf1",
   "metadata": {},
   "source": [
    "# 安装配置MMPose"
   ]
  },
  {
   "cell_type": "markdown",
   "id": "0fc8ebd8-db6e-4a17-895f-2f87fc98ca79",
   "metadata": {},
   "source": [
    "按照顺序逐行运行本代码，即可安装配置 MMCV、MMPose环境\n",
    "\n",
    "代码测试[云GPU环境](https://featurize.cn?s=d7ce99f842414bfcaea5662a97581bd1)：GPU RTX 3060、CUDA v11.2\n",
    "\n",
    "OpenMMLab主页：https://openmmlab.com/\n",
    "\n",
    "MMPose主页：https://github.com/open-mmlab/mmpose\n",
    "\n",
    "作者：同济子豪兄 2022-6-6"
   ]
  },
  {
   "cell_type": "markdown",
   "id": "63d0dc47-4601-49a3-8d25-12b4d24fa6f0",
   "metadata": {},
   "source": [
    "> 提示：以下代码运行时，若长时间运行卡着不动，可重启 kernel 后重新运行一遍"
   ]
  },
  {
   "cell_type": "markdown",
   "id": "6fc1c686-1267-4503-b9e4-bcb188a7f974",
   "metadata": {
    "tags": []
   },
   "source": [
    "## 下载安装Pytorch（大约需要两分钟）"
   ]
  },
  {
   "cell_type": "code",
   "execution_count": 1,
   "id": "ebac87ae-6b96-417f-88f2-5016e8860bb5",
   "metadata": {},
   "outputs": [
    {
     "name": "stdout",
     "output_type": "stream",
     "text": [
      "Looking in indexes: https://pypi.tuna.tsinghua.edu.cn/simple, https://download.pytorch.org/whl/cu113\n",
      "Requirement already satisfied: torch in /environment/miniconda3/lib/python3.7/site-packages (1.10.0+cu113)\n",
      "Requirement already satisfied: torchvision in /environment/miniconda3/lib/python3.7/site-packages (0.11.1+cu113)\n",
      "Requirement already satisfied: torchaudio in /environment/miniconda3/lib/python3.7/site-packages (0.10.0+cu113)\n",
      "Requirement already satisfied: typing-extensions in /environment/miniconda3/lib/python3.7/site-packages (from torch) (4.0.1)\n",
      "Requirement already satisfied: numpy in /environment/miniconda3/lib/python3.7/site-packages (from torchvision) (1.21.4)\n",
      "Requirement already satisfied: pillow!=8.3.0,>=5.3.0 in /environment/miniconda3/lib/python3.7/site-packages (from torchvision) (8.4.0)\n"
     ]
    }
   ],
   "source": [
    "!pip3 install torch torchvision torchaudio --extra-index-url https://download.pytorch.org/whl/cu113"
   ]
  },
  {
   "cell_type": "markdown",
   "id": "3f6d2447-2445-4bba-add1-82f096cde157",
   "metadata": {},
   "source": [
    "## 下载安装MIM"
   ]
  },
  {
   "cell_type": "code",
   "execution_count": 2,
   "id": "b146a22b-c09e-4a2b-b44c-9243a4b7e52b",
   "metadata": {
    "tags": []
   },
   "outputs": [
    {
     "name": "stdout",
     "output_type": "stream",
     "text": [
      "Looking in indexes: https://pypi.tuna.tsinghua.edu.cn/simple\n",
      "Requirement already satisfied: openmim in /environment/miniconda3/lib/python3.7/site-packages (0.3.5)\n",
      "Requirement already satisfied: Click in /environment/miniconda3/lib/python3.7/site-packages (from openmim) (7.1.2)\n",
      "Requirement already satisfied: pandas in /environment/miniconda3/lib/python3.7/site-packages (from openmim) (1.3.4)\n",
      "Requirement already satisfied: colorama in /environment/miniconda3/lib/python3.7/site-packages (from openmim) (0.4.4)\n",
      "Requirement already satisfied: pip>=19.3 in /environment/miniconda3/lib/python3.7/site-packages (from openmim) (21.1.3)\n",
      "Requirement already satisfied: rich in /environment/miniconda3/lib/python3.7/site-packages (from openmim) (13.3.1)\n",
      "Requirement already satisfied: requests in /environment/miniconda3/lib/python3.7/site-packages (from openmim) (2.24.0)\n",
      "Requirement already satisfied: tabulate in /environment/miniconda3/lib/python3.7/site-packages (from openmim) (0.8.7)\n",
      "Requirement already satisfied: model-index in /environment/miniconda3/lib/python3.7/site-packages (from openmim) (0.1.11)\n",
      "Requirement already satisfied: pyyaml in /environment/miniconda3/lib/python3.7/site-packages (from model-index->openmim) (6.0)\n",
      "Requirement already satisfied: ordered-set in /environment/miniconda3/lib/python3.7/site-packages (from model-index->openmim) (4.1.0)\n",
      "Requirement already satisfied: markdown in /environment/miniconda3/lib/python3.7/site-packages (from model-index->openmim) (3.3.6)\n",
      "Requirement already satisfied: importlib-metadata>=4.4 in /environment/miniconda3/lib/python3.7/site-packages (from markdown->model-index->openmim) (4.8.2)\n",
      "Requirement already satisfied: zipp>=0.5 in /environment/miniconda3/lib/python3.7/site-packages (from importlib-metadata>=4.4->markdown->model-index->openmim) (3.6.0)\n",
      "Requirement already satisfied: typing-extensions>=3.6.4 in /environment/miniconda3/lib/python3.7/site-packages (from importlib-metadata>=4.4->markdown->model-index->openmim) (4.0.1)\n",
      "Requirement already satisfied: numpy>=1.17.3 in /environment/miniconda3/lib/python3.7/site-packages (from pandas->openmim) (1.21.4)\n",
      "Requirement already satisfied: python-dateutil>=2.7.3 in /environment/miniconda3/lib/python3.7/site-packages (from pandas->openmim) (2.8.2)\n",
      "Requirement already satisfied: pytz>=2017.3 in /environment/miniconda3/lib/python3.7/site-packages (from pandas->openmim) (2021.3)\n",
      "Requirement already satisfied: six>=1.5 in /environment/miniconda3/lib/python3.7/site-packages (from python-dateutil>=2.7.3->pandas->openmim) (1.16.0)\n",
      "Requirement already satisfied: chardet<4,>=3.0.2 in /environment/miniconda3/lib/python3.7/site-packages (from requests->openmim) (3.0.4)\n",
      "Requirement already satisfied: urllib3!=1.25.0,!=1.25.1,<1.26,>=1.21.1 in /environment/miniconda3/lib/python3.7/site-packages (from requests->openmim) (1.25.11)\n",
      "Requirement already satisfied: idna<3,>=2.5 in /environment/miniconda3/lib/python3.7/site-packages (from requests->openmim) (2.10)\n",
      "Requirement already satisfied: certifi>=2017.4.17 in /environment/miniconda3/lib/python3.7/site-packages (from requests->openmim) (2021.5.30)\n",
      "Requirement already satisfied: pygments<3.0.0,>=2.14.0 in /environment/miniconda3/lib/python3.7/site-packages (from rich->openmim) (2.14.0)\n",
      "Requirement already satisfied: markdown-it-py<3.0.0,>=2.1.0 in /environment/miniconda3/lib/python3.7/site-packages (from rich->openmim) (2.1.0)\n",
      "Requirement already satisfied: mdurl~=0.1 in /environment/miniconda3/lib/python3.7/site-packages (from markdown-it-py<3.0.0,>=2.1.0->rich->openmim) (0.1.2)\n"
     ]
    }
   ],
   "source": [
    "!pip install -U openmim"
   ]
  },
  {
   "cell_type": "markdown",
   "id": "30ca00a2-4f39-44f3-9379-8889e3a24b39",
   "metadata": {},
   "source": [
    "## 下载安装 mmcv-full（大约需要两分钟）"
   ]
  },
  {
   "cell_type": "code",
   "execution_count": 3,
   "id": "69d80570-7eb5-4bf4-a84d-39106d23f73b",
   "metadata": {
    "tags": []
   },
   "outputs": [
    {
     "name": "stdout",
     "output_type": "stream",
     "text": [
      "Looking in indexes: https://pypi.tuna.tsinghua.edu.cn/simple\n",
      "Looking in links: https://download.openmmlab.com/mmcv/dist/cu113/torch1.10.0/index.html\n",
      "Requirement already satisfied: mmcv>=2.0.0rc1 in /environment/miniconda3/lib/python3.7/site-packages (2.0.0rc4)\n",
      "Requirement already satisfied: numpy in /environment/miniconda3/lib/python3.7/site-packages (from mmcv>=2.0.0rc1) (1.21.4)\n",
      "Requirement already satisfied: mmengine>=0.2.0 in /environment/miniconda3/lib/python3.7/site-packages (from mmcv>=2.0.0rc1) (0.5.0)\n",
      "Requirement already satisfied: yapf in /environment/miniconda3/lib/python3.7/site-packages (from mmcv>=2.0.0rc1) (0.31.0)\n",
      "Requirement already satisfied: pyyaml in /environment/miniconda3/lib/python3.7/site-packages (from mmcv>=2.0.0rc1) (6.0)\n",
      "Requirement already satisfied: Pillow in /environment/miniconda3/lib/python3.7/site-packages (from mmcv>=2.0.0rc1) (8.4.0)\n",
      "Requirement already satisfied: addict in /environment/miniconda3/lib/python3.7/site-packages (from mmcv>=2.0.0rc1) (2.4.0)\n",
      "Requirement already satisfied: packaging in /environment/miniconda3/lib/python3.7/site-packages (from mmcv>=2.0.0rc1) (21.3)\n",
      "Requirement already satisfied: opencv-python>=3 in /environment/miniconda3/lib/python3.7/site-packages (from mmcv>=2.0.0rc1) (4.5.4.60)\n",
      "Requirement already satisfied: rich in /environment/miniconda3/lib/python3.7/site-packages (from mmengine>=0.2.0->mmcv>=2.0.0rc1) (13.3.1)\n",
      "Requirement already satisfied: termcolor in /environment/miniconda3/lib/python3.7/site-packages (from mmengine>=0.2.0->mmcv>=2.0.0rc1) (1.1.0)\n",
      "Requirement already satisfied: matplotlib in /environment/miniconda3/lib/python3.7/site-packages (from mmengine>=0.2.0->mmcv>=2.0.0rc1) (3.5.0)\n",
      "Requirement already satisfied: pyparsing>=2.2.1 in /environment/miniconda3/lib/python3.7/site-packages (from matplotlib->mmengine>=0.2.0->mmcv>=2.0.0rc1) (3.0.6)\n",
      "Requirement already satisfied: cycler>=0.10 in /environment/miniconda3/lib/python3.7/site-packages (from matplotlib->mmengine>=0.2.0->mmcv>=2.0.0rc1) (0.11.0)\n",
      "Requirement already satisfied: setuptools-scm>=4 in /environment/miniconda3/lib/python3.7/site-packages (from matplotlib->mmengine>=0.2.0->mmcv>=2.0.0rc1) (6.3.2)\n",
      "Requirement already satisfied: fonttools>=4.22.0 in /environment/miniconda3/lib/python3.7/site-packages (from matplotlib->mmengine>=0.2.0->mmcv>=2.0.0rc1) (4.28.3)\n",
      "Requirement already satisfied: python-dateutil>=2.7 in /environment/miniconda3/lib/python3.7/site-packages (from matplotlib->mmengine>=0.2.0->mmcv>=2.0.0rc1) (2.8.2)\n",
      "Requirement already satisfied: kiwisolver>=1.0.1 in /environment/miniconda3/lib/python3.7/site-packages (from matplotlib->mmengine>=0.2.0->mmcv>=2.0.0rc1) (1.3.2)\n",
      "Requirement already satisfied: six>=1.5 in /environment/miniconda3/lib/python3.7/site-packages (from python-dateutil>=2.7->matplotlib->mmengine>=0.2.0->mmcv>=2.0.0rc1) (1.16.0)\n",
      "Requirement already satisfied: setuptools in /environment/miniconda3/lib/python3.7/site-packages (from setuptools-scm>=4->matplotlib->mmengine>=0.2.0->mmcv>=2.0.0rc1) (52.0.0.post20210125)\n",
      "Requirement already satisfied: tomli>=1.0.0 in /environment/miniconda3/lib/python3.7/site-packages (from setuptools-scm>=4->matplotlib->mmengine>=0.2.0->mmcv>=2.0.0rc1) (1.2.2)\n",
      "Requirement already satisfied: markdown-it-py<3.0.0,>=2.1.0 in /environment/miniconda3/lib/python3.7/site-packages (from rich->mmengine>=0.2.0->mmcv>=2.0.0rc1) (2.1.0)\n",
      "Requirement already satisfied: typing-extensions<5.0,>=4.0.0 in /environment/miniconda3/lib/python3.7/site-packages (from rich->mmengine>=0.2.0->mmcv>=2.0.0rc1) (4.0.1)\n",
      "Requirement already satisfied: pygments<3.0.0,>=2.14.0 in /environment/miniconda3/lib/python3.7/site-packages (from rich->mmengine>=0.2.0->mmcv>=2.0.0rc1) (2.14.0)\n",
      "Requirement already satisfied: mdurl~=0.1 in /environment/miniconda3/lib/python3.7/site-packages (from markdown-it-py<3.0.0,>=2.1.0->rich->mmengine>=0.2.0->mmcv>=2.0.0rc1) (0.1.2)\n"
     ]
    }
   ],
   "source": [
    "# 安装mmcv -full\n",
    "!mim install \"mmcv>=2.0.0rc1\""
   ]
  },
  {
   "cell_type": "markdown",
   "id": "38c55520-071b-41de-91f4-3ec78e16bf27",
   "metadata": {},
   "source": [
    "## 安装其它工具包（大约需要一分钟）"
   ]
  },
  {
   "cell_type": "code",
   "execution_count": 4,
   "id": "eb4b3373-f117-46a9-ab43-e67753eb7c61",
   "metadata": {
    "tags": []
   },
   "outputs": [
    {
     "name": "stdout",
     "output_type": "stream",
     "text": [
      "Looking in indexes: https://pypi.tuna.tsinghua.edu.cn/simple\n",
      "Requirement already satisfied: seaborn in /environment/miniconda3/lib/python3.7/site-packages (0.12.2)\n",
      "Requirement already satisfied: tqdm in /environment/miniconda3/lib/python3.7/site-packages (4.61.2)\n",
      "Requirement already satisfied: imageio-ffmpeg in /environment/miniconda3/lib/python3.7/site-packages (0.4.8)\n",
      "Requirement already satisfied: typing_extensions in /environment/miniconda3/lib/python3.7/site-packages (from seaborn) (4.0.1)\n",
      "Requirement already satisfied: matplotlib!=3.6.1,>=3.1 in /environment/miniconda3/lib/python3.7/site-packages (from seaborn) (3.5.0)\n",
      "Requirement already satisfied: pandas>=0.25 in /environment/miniconda3/lib/python3.7/site-packages (from seaborn) (1.3.4)\n",
      "Requirement already satisfied: numpy!=1.24.0,>=1.17 in /environment/miniconda3/lib/python3.7/site-packages (from seaborn) (1.21.4)\n",
      "Requirement already satisfied: kiwisolver>=1.0.1 in /environment/miniconda3/lib/python3.7/site-packages (from matplotlib!=3.6.1,>=3.1->seaborn) (1.3.2)\n",
      "Requirement already satisfied: fonttools>=4.22.0 in /environment/miniconda3/lib/python3.7/site-packages (from matplotlib!=3.6.1,>=3.1->seaborn) (4.28.3)\n",
      "Requirement already satisfied: cycler>=0.10 in /environment/miniconda3/lib/python3.7/site-packages (from matplotlib!=3.6.1,>=3.1->seaborn) (0.11.0)\n",
      "Requirement already satisfied: setuptools-scm>=4 in /environment/miniconda3/lib/python3.7/site-packages (from matplotlib!=3.6.1,>=3.1->seaborn) (6.3.2)\n",
      "Requirement already satisfied: pillow>=6.2.0 in /environment/miniconda3/lib/python3.7/site-packages (from matplotlib!=3.6.1,>=3.1->seaborn) (8.4.0)\n",
      "Requirement already satisfied: pyparsing>=2.2.1 in /environment/miniconda3/lib/python3.7/site-packages (from matplotlib!=3.6.1,>=3.1->seaborn) (3.0.6)\n",
      "Requirement already satisfied: packaging>=20.0 in /environment/miniconda3/lib/python3.7/site-packages (from matplotlib!=3.6.1,>=3.1->seaborn) (21.3)\n",
      "Requirement already satisfied: python-dateutil>=2.7 in /environment/miniconda3/lib/python3.7/site-packages (from matplotlib!=3.6.1,>=3.1->seaborn) (2.8.2)\n",
      "Requirement already satisfied: pytz>=2017.3 in /environment/miniconda3/lib/python3.7/site-packages (from pandas>=0.25->seaborn) (2021.3)\n",
      "Requirement already satisfied: six>=1.5 in /environment/miniconda3/lib/python3.7/site-packages (from python-dateutil>=2.7->matplotlib!=3.6.1,>=3.1->seaborn) (1.16.0)\n",
      "Requirement already satisfied: tomli>=1.0.0 in /environment/miniconda3/lib/python3.7/site-packages (from setuptools-scm>=4->matplotlib!=3.6.1,>=3.1->seaborn) (1.2.2)\n",
      "Requirement already satisfied: setuptools in /environment/miniconda3/lib/python3.7/site-packages (from setuptools-scm>=4->matplotlib!=3.6.1,>=3.1->seaborn) (52.0.0.post20210125)\n"
     ]
    }
   ],
   "source": [
    "!pip install seaborn tqdm imageio-ffmpeg -i https://pypi.tuna.tsinghua.edu.cn/simple"
   ]
  },
  {
   "cell_type": "code",
   "execution_count": 5,
   "id": "0d6ef219-1365-4a5a-91d4-b392ffcd0af8",
   "metadata": {
    "tags": []
   },
   "outputs": [
    {
     "name": "stdout",
     "output_type": "stream",
     "text": [
      "Looking in indexes: https://pypi.tuna.tsinghua.edu.cn/simple\n",
      "Looking in links: https://download.openmmlab.com/mmcv/dist/cu113/torch1.10.0/index.html\n",
      "Requirement already satisfied: mmengine in /environment/miniconda3/lib/python3.7/site-packages (0.5.0)\n",
      "Requirement already satisfied: numpy in /environment/miniconda3/lib/python3.7/site-packages (from mmengine) (1.21.4)\n",
      "Requirement already satisfied: addict in /environment/miniconda3/lib/python3.7/site-packages (from mmengine) (2.4.0)\n",
      "Requirement already satisfied: matplotlib in /environment/miniconda3/lib/python3.7/site-packages (from mmengine) (3.5.0)\n",
      "Requirement already satisfied: pyyaml in /environment/miniconda3/lib/python3.7/site-packages (from mmengine) (6.0)\n",
      "Requirement already satisfied: termcolor in /environment/miniconda3/lib/python3.7/site-packages (from mmengine) (1.1.0)\n",
      "Requirement already satisfied: opencv-python>=3 in /environment/miniconda3/lib/python3.7/site-packages (from mmengine) (4.5.4.60)\n",
      "Requirement already satisfied: yapf in /environment/miniconda3/lib/python3.7/site-packages (from mmengine) (0.31.0)\n",
      "Requirement already satisfied: rich in /environment/miniconda3/lib/python3.7/site-packages (from mmengine) (13.3.1)\n",
      "Requirement already satisfied: cycler>=0.10 in /environment/miniconda3/lib/python3.7/site-packages (from matplotlib->mmengine) (0.11.0)\n",
      "Requirement already satisfied: kiwisolver>=1.0.1 in /environment/miniconda3/lib/python3.7/site-packages (from matplotlib->mmengine) (1.3.2)\n",
      "Requirement already satisfied: python-dateutil>=2.7 in /environment/miniconda3/lib/python3.7/site-packages (from matplotlib->mmengine) (2.8.2)\n",
      "Requirement already satisfied: pillow>=6.2.0 in /environment/miniconda3/lib/python3.7/site-packages (from matplotlib->mmengine) (8.4.0)\n",
      "Requirement already satisfied: setuptools-scm>=4 in /environment/miniconda3/lib/python3.7/site-packages (from matplotlib->mmengine) (6.3.2)\n",
      "Requirement already satisfied: pyparsing>=2.2.1 in /environment/miniconda3/lib/python3.7/site-packages (from matplotlib->mmengine) (3.0.6)\n",
      "Requirement already satisfied: fonttools>=4.22.0 in /environment/miniconda3/lib/python3.7/site-packages (from matplotlib->mmengine) (4.28.3)\n",
      "Requirement already satisfied: packaging>=20.0 in /environment/miniconda3/lib/python3.7/site-packages (from matplotlib->mmengine) (21.3)\n",
      "Requirement already satisfied: six>=1.5 in /environment/miniconda3/lib/python3.7/site-packages (from python-dateutil>=2.7->matplotlib->mmengine) (1.16.0)\n",
      "Requirement already satisfied: setuptools in /environment/miniconda3/lib/python3.7/site-packages (from setuptools-scm>=4->matplotlib->mmengine) (52.0.0.post20210125)\n",
      "Requirement already satisfied: tomli>=1.0.0 in /environment/miniconda3/lib/python3.7/site-packages (from setuptools-scm>=4->matplotlib->mmengine) (1.2.2)\n",
      "Requirement already satisfied: markdown-it-py<3.0.0,>=2.1.0 in /environment/miniconda3/lib/python3.7/site-packages (from rich->mmengine) (2.1.0)\n",
      "Requirement already satisfied: typing-extensions<5.0,>=4.0.0 in /environment/miniconda3/lib/python3.7/site-packages (from rich->mmengine) (4.0.1)\n",
      "Requirement already satisfied: pygments<3.0.0,>=2.14.0 in /environment/miniconda3/lib/python3.7/site-packages (from rich->mmengine) (2.14.0)\n",
      "Requirement already satisfied: mdurl~=0.1 in /environment/miniconda3/lib/python3.7/site-packages (from markdown-it-py<3.0.0,>=2.1.0->rich->mmengine) (0.1.2)\n",
      "Looking in indexes: https://pypi.tuna.tsinghua.edu.cn/simple\n",
      "Looking in links: https://download.openmmlab.com/mmcv/dist/cu113/torch1.10.0/index.html\n",
      "Requirement already satisfied: mmdet>=3.0.0rc0 in /environment/miniconda3/lib/python3.7/site-packages (3.0.0rc5)\n",
      "Requirement already satisfied: scipy in /environment/miniconda3/lib/python3.7/site-packages (from mmdet>=3.0.0rc0) (1.7.3)\n",
      "Requirement already satisfied: six in /environment/miniconda3/lib/python3.7/site-packages (from mmdet>=3.0.0rc0) (1.16.0)\n",
      "Requirement already satisfied: matplotlib in /environment/miniconda3/lib/python3.7/site-packages (from mmdet>=3.0.0rc0) (3.5.0)\n",
      "Requirement already satisfied: terminaltables in /environment/miniconda3/lib/python3.7/site-packages (from mmdet>=3.0.0rc0) (3.1.10)\n",
      "Requirement already satisfied: pycocotools in /environment/miniconda3/lib/python3.7/site-packages (from mmdet>=3.0.0rc0) (2.0.6)\n",
      "Requirement already satisfied: numpy in /environment/miniconda3/lib/python3.7/site-packages (from mmdet>=3.0.0rc0) (1.21.4)\n",
      "Requirement already satisfied: mmcv<2.1.0,>=2.0.0rc1 in /environment/miniconda3/lib/python3.7/site-packages (from mmdet>=3.0.0rc0) (2.0.0rc4)\n",
      "Requirement already satisfied: mmengine<1.0.0,>=0.1.0 in /environment/miniconda3/lib/python3.7/site-packages (from mmdet>=3.0.0rc0) (0.5.0)\n",
      "Requirement already satisfied: addict in /environment/miniconda3/lib/python3.7/site-packages (from mmcv<2.1.0,>=2.0.0rc1->mmdet>=3.0.0rc0) (2.4.0)\n",
      "Requirement already satisfied: packaging in /environment/miniconda3/lib/python3.7/site-packages (from mmcv<2.1.0,>=2.0.0rc1->mmdet>=3.0.0rc0) (21.3)\n",
      "Requirement already satisfied: Pillow in /environment/miniconda3/lib/python3.7/site-packages (from mmcv<2.1.0,>=2.0.0rc1->mmdet>=3.0.0rc0) (8.4.0)\n",
      "Requirement already satisfied: pyyaml in /environment/miniconda3/lib/python3.7/site-packages (from mmcv<2.1.0,>=2.0.0rc1->mmdet>=3.0.0rc0) (6.0)\n",
      "Requirement already satisfied: opencv-python>=3 in /environment/miniconda3/lib/python3.7/site-packages (from mmcv<2.1.0,>=2.0.0rc1->mmdet>=3.0.0rc0) (4.5.4.60)\n",
      "Requirement already satisfied: yapf in /environment/miniconda3/lib/python3.7/site-packages (from mmcv<2.1.0,>=2.0.0rc1->mmdet>=3.0.0rc0) (0.31.0)\n",
      "Requirement already satisfied: termcolor in /environment/miniconda3/lib/python3.7/site-packages (from mmengine<1.0.0,>=0.1.0->mmdet>=3.0.0rc0) (1.1.0)\n",
      "Requirement already satisfied: rich in /environment/miniconda3/lib/python3.7/site-packages (from mmengine<1.0.0,>=0.1.0->mmdet>=3.0.0rc0) (13.3.1)\n",
      "Requirement already satisfied: cycler>=0.10 in /environment/miniconda3/lib/python3.7/site-packages (from matplotlib->mmdet>=3.0.0rc0) (0.11.0)\n",
      "Requirement already satisfied: kiwisolver>=1.0.1 in /environment/miniconda3/lib/python3.7/site-packages (from matplotlib->mmdet>=3.0.0rc0) (1.3.2)\n",
      "Requirement already satisfied: fonttools>=4.22.0 in /environment/miniconda3/lib/python3.7/site-packages (from matplotlib->mmdet>=3.0.0rc0) (4.28.3)\n",
      "Requirement already satisfied: setuptools-scm>=4 in /environment/miniconda3/lib/python3.7/site-packages (from matplotlib->mmdet>=3.0.0rc0) (6.3.2)\n",
      "Requirement already satisfied: python-dateutil>=2.7 in /environment/miniconda3/lib/python3.7/site-packages (from matplotlib->mmdet>=3.0.0rc0) (2.8.2)\n",
      "Requirement already satisfied: pyparsing>=2.2.1 in /environment/miniconda3/lib/python3.7/site-packages (from matplotlib->mmdet>=3.0.0rc0) (3.0.6)\n",
      "Requirement already satisfied: setuptools in /environment/miniconda3/lib/python3.7/site-packages (from setuptools-scm>=4->matplotlib->mmdet>=3.0.0rc0) (52.0.0.post20210125)\n",
      "Requirement already satisfied: tomli>=1.0.0 in /environment/miniconda3/lib/python3.7/site-packages (from setuptools-scm>=4->matplotlib->mmdet>=3.0.0rc0) (1.2.2)\n",
      "Requirement already satisfied: markdown-it-py<3.0.0,>=2.1.0 in /environment/miniconda3/lib/python3.7/site-packages (from rich->mmengine<1.0.0,>=0.1.0->mmdet>=3.0.0rc0) (2.1.0)\n",
      "Requirement already satisfied: pygments<3.0.0,>=2.14.0 in /environment/miniconda3/lib/python3.7/site-packages (from rich->mmengine<1.0.0,>=0.1.0->mmdet>=3.0.0rc0) (2.14.0)\n",
      "Requirement already satisfied: typing-extensions<5.0,>=4.0.0 in /environment/miniconda3/lib/python3.7/site-packages (from rich->mmengine<1.0.0,>=0.1.0->mmdet>=3.0.0rc0) (4.0.1)\n",
      "Requirement already satisfied: mdurl~=0.1 in /environment/miniconda3/lib/python3.7/site-packages (from markdown-it-py<3.0.0,>=2.1.0->rich->mmengine<1.0.0,>=0.1.0->mmdet>=3.0.0rc0) (0.1.2)\n"
     ]
    }
   ],
   "source": [
    "!mim install mmengine\n",
    "#MMPose 中的一些推理示例脚本需要使用 MMDetection (mmdet) 检测人体。如果您想运行这些示例脚本，可以通过运行以下命令安装 mmdet\n",
    "!mim install \"mmdet>=3.0.0rc0\""
   ]
  },
  {
   "cell_type": "markdown",
   "id": "0defb2f8-d5ab-4ee4-a66f-85cc17c221de",
   "metadata": {
    "tags": []
   },
   "source": [
    "## 下载安装 MMPose"
   ]
  },
  {
   "cell_type": "code",
   "execution_count": 6,
   "id": "21658458-0a1d-40ee-9138-0da866331617",
   "metadata": {},
   "outputs": [],
   "source": [
    "# 删掉原有的 mmpose 文件夹（如有）\n",
    "!rm -rf mmpose"
   ]
  },
  {
   "cell_type": "code",
   "execution_count": 7,
   "id": "09c51fee-d040-46cf-8d86-c0248ab7fe84",
   "metadata": {},
   "outputs": [
    {
     "name": "stdout",
     "output_type": "stream",
     "text": [
      "正克隆到 'mmpose'...\n",
      "remote: Enumerating objects: 23866, done.\u001b[K\n",
      "remote: Counting objects: 100% (47/47), done.\u001b[K\n",
      "remote: Compressing objects: 100% (41/41), done.\u001b[K\n",
      "remote: Total 23866 (delta 9), reused 34 (delta 6), pack-reused 23819\u001b[K\n",
      "接收对象中: 100% (23866/23866), 26.82 MiB | 6.14 MiB/s, 完成.\n",
      "处理 delta 中: 100% (17064/17064), 完成.\n",
      "正在更新文件: 100% (1134/1134), 完成.\n"
     ]
    }
   ],
   "source": [
    "# 从 github 上下载最新的 mmpose 源代码\n",
    "!git clone https://github.com/open-mmlab/mmpose.git -b 1.x"
   ]
  },
  {
   "cell_type": "code",
   "execution_count": 8,
   "id": "21f59cb9-bcd6-4d00-93f2-e533c406d484",
   "metadata": {},
   "outputs": [],
   "source": [
    "# 进入 mmpose 主目录\n",
    "import os\n",
    "os.chdir('mmpose')"
   ]
  },
  {
   "cell_type": "code",
   "execution_count": 9,
   "id": "1703a0a7-453e-4414-a14e-c452a8c64fba",
   "metadata": {
    "tags": []
   },
   "outputs": [
    {
     "name": "stdout",
     "output_type": "stream",
     "text": [
      "Looking in indexes: https://pypi.tuna.tsinghua.edu.cn/simple\n",
      "Ignoring dataclasses: markers 'python_version == \"3.6\"' don't match your environment\n",
      "Requirement already satisfied: numpy in /environment/miniconda3/lib/python3.7/site-packages (from -r requirements/build.txt (line 2)) (1.21.4)\n",
      "Requirement already satisfied: torch>=1.6 in /environment/miniconda3/lib/python3.7/site-packages (from -r requirements/build.txt (line 3)) (1.10.0+cu113)\n",
      "Requirement already satisfied: chumpy in /environment/miniconda3/lib/python3.7/site-packages (from -r requirements/runtime.txt (line 1)) (0.70)\n",
      "Requirement already satisfied: json_tricks in /environment/miniconda3/lib/python3.7/site-packages (from -r requirements/runtime.txt (line 3)) (3.16.1)\n",
      "Requirement already satisfied: matplotlib in /environment/miniconda3/lib/python3.7/site-packages (from -r requirements/runtime.txt (line 4)) (3.5.0)\n",
      "Requirement already satisfied: munkres in /environment/miniconda3/lib/python3.7/site-packages (from -r requirements/runtime.txt (line 5)) (1.1.4)\n",
      "Requirement already satisfied: opencv-python in /environment/miniconda3/lib/python3.7/site-packages (from -r requirements/runtime.txt (line 7)) (4.5.4.60)\n",
      "Requirement already satisfied: pillow in /environment/miniconda3/lib/python3.7/site-packages (from -r requirements/runtime.txt (line 8)) (8.4.0)\n",
      "Requirement already satisfied: scipy in /environment/miniconda3/lib/python3.7/site-packages (from -r requirements/runtime.txt (line 9)) (1.7.3)\n",
      "Requirement already satisfied: torchvision in /environment/miniconda3/lib/python3.7/site-packages (from -r requirements/runtime.txt (line 10)) (0.11.1+cu113)\n",
      "Requirement already satisfied: xtcocotools>=1.12 in /environment/miniconda3/lib/python3.7/site-packages (from -r requirements/runtime.txt (line 11)) (1.13)\n",
      "Requirement already satisfied: coverage in /environment/miniconda3/lib/python3.7/site-packages (from -r requirements/tests.txt (line 1)) (7.1.0)\n",
      "Requirement already satisfied: flake8 in /environment/miniconda3/lib/python3.7/site-packages (from -r requirements/tests.txt (line 2)) (3.8.4)\n",
      "Requirement already satisfied: interrogate in /environment/miniconda3/lib/python3.7/site-packages (from -r requirements/tests.txt (line 3)) (1.5.0)\n",
      "Requirement already satisfied: isort==4.3.21 in /environment/miniconda3/lib/python3.7/site-packages (from -r requirements/tests.txt (line 4)) (4.3.21)\n",
      "Requirement already satisfied: parameterized in /environment/miniconda3/lib/python3.7/site-packages (from -r requirements/tests.txt (line 5)) (0.8.1)\n",
      "Requirement already satisfied: pytest in /environment/miniconda3/lib/python3.7/site-packages (from -r requirements/tests.txt (line 6)) (7.2.1)\n",
      "Requirement already satisfied: pytest-runner in /environment/miniconda3/lib/python3.7/site-packages (from -r requirements/tests.txt (line 7)) (6.0.0)\n",
      "Requirement already satisfied: xdoctest>=0.10.0 in /environment/miniconda3/lib/python3.7/site-packages (from -r requirements/tests.txt (line 8)) (1.1.1)\n",
      "Requirement already satisfied: yapf in /environment/miniconda3/lib/python3.7/site-packages (from -r requirements/tests.txt (line 9)) (0.31.0)\n",
      "Requirement already satisfied: requests in /environment/miniconda3/lib/python3.7/site-packages (from -r requirements/optional.txt (line 1)) (2.24.0)\n",
      "Requirement already satisfied: typing-extensions in /environment/miniconda3/lib/python3.7/site-packages (from torch>=1.6->-r requirements/build.txt (line 3)) (4.0.1)\n",
      "Requirement already satisfied: cython>=0.27.3 in /environment/miniconda3/lib/python3.7/site-packages (from xtcocotools>=1.12->-r requirements/runtime.txt (line 11)) (0.29.33)\n",
      "Requirement already satisfied: setuptools>=18.0 in /environment/miniconda3/lib/python3.7/site-packages (from xtcocotools>=1.12->-r requirements/runtime.txt (line 11)) (52.0.0.post20210125)\n",
      "Requirement already satisfied: cycler>=0.10 in /environment/miniconda3/lib/python3.7/site-packages (from matplotlib->-r requirements/runtime.txt (line 4)) (0.11.0)\n",
      "Requirement already satisfied: kiwisolver>=1.0.1 in /environment/miniconda3/lib/python3.7/site-packages (from matplotlib->-r requirements/runtime.txt (line 4)) (1.3.2)\n",
      "Requirement already satisfied: fonttools>=4.22.0 in /environment/miniconda3/lib/python3.7/site-packages (from matplotlib->-r requirements/runtime.txt (line 4)) (4.28.3)\n",
      "Requirement already satisfied: packaging>=20.0 in /environment/miniconda3/lib/python3.7/site-packages (from matplotlib->-r requirements/runtime.txt (line 4)) (21.3)\n",
      "Requirement already satisfied: setuptools-scm>=4 in /environment/miniconda3/lib/python3.7/site-packages (from matplotlib->-r requirements/runtime.txt (line 4)) (6.3.2)\n",
      "Requirement already satisfied: pyparsing>=2.2.1 in /environment/miniconda3/lib/python3.7/site-packages (from matplotlib->-r requirements/runtime.txt (line 4)) (3.0.6)\n",
      "Requirement already satisfied: python-dateutil>=2.7 in /environment/miniconda3/lib/python3.7/site-packages (from matplotlib->-r requirements/runtime.txt (line 4)) (2.8.2)\n",
      "Requirement already satisfied: six in /environment/miniconda3/lib/python3.7/site-packages (from xdoctest>=0.10.0->-r requirements/tests.txt (line 8)) (1.16.0)\n",
      "Requirement already satisfied: tomli>=1.0.0 in /environment/miniconda3/lib/python3.7/site-packages (from setuptools-scm>=4->matplotlib->-r requirements/runtime.txt (line 4)) (1.2.2)\n",
      "Requirement already satisfied: pycodestyle<2.7.0,>=2.6.0a1 in /environment/miniconda3/lib/python3.7/site-packages (from flake8->-r requirements/tests.txt (line 2)) (2.6.0)\n",
      "Requirement already satisfied: pyflakes<2.3.0,>=2.2.0 in /environment/miniconda3/lib/python3.7/site-packages (from flake8->-r requirements/tests.txt (line 2)) (2.2.0)\n",
      "Requirement already satisfied: mccabe<0.7.0,>=0.6.0 in /environment/miniconda3/lib/python3.7/site-packages (from flake8->-r requirements/tests.txt (line 2)) (0.6.1)\n",
      "Requirement already satisfied: importlib-metadata in /environment/miniconda3/lib/python3.7/site-packages (from flake8->-r requirements/tests.txt (line 2)) (4.8.2)\n",
      "Requirement already satisfied: tabulate in /environment/miniconda3/lib/python3.7/site-packages (from interrogate->-r requirements/tests.txt (line 3)) (0.8.7)\n",
      "Requirement already satisfied: py in /environment/miniconda3/lib/python3.7/site-packages (from interrogate->-r requirements/tests.txt (line 3)) (1.11.0)\n",
      "Requirement already satisfied: attrs in /environment/miniconda3/lib/python3.7/site-packages (from interrogate->-r requirements/tests.txt (line 3)) (21.2.0)\n",
      "Requirement already satisfied: toml in /environment/miniconda3/lib/python3.7/site-packages (from interrogate->-r requirements/tests.txt (line 3)) (0.10.2)\n",
      "Requirement already satisfied: colorama in /environment/miniconda3/lib/python3.7/site-packages (from interrogate->-r requirements/tests.txt (line 3)) (0.4.4)\n",
      "Requirement already satisfied: click>=7.1 in /environment/miniconda3/lib/python3.7/site-packages (from interrogate->-r requirements/tests.txt (line 3)) (7.1.2)\n",
      "Requirement already satisfied: exceptiongroup>=1.0.0rc8 in /environment/miniconda3/lib/python3.7/site-packages (from pytest->-r requirements/tests.txt (line 6)) (1.1.0)\n",
      "Requirement already satisfied: pluggy<2.0,>=0.12 in /environment/miniconda3/lib/python3.7/site-packages (from pytest->-r requirements/tests.txt (line 6)) (1.0.0)\n",
      "Requirement already satisfied: iniconfig in /environment/miniconda3/lib/python3.7/site-packages (from pytest->-r requirements/tests.txt (line 6)) (2.0.0)\n",
      "Requirement already satisfied: zipp>=0.5 in /environment/miniconda3/lib/python3.7/site-packages (from importlib-metadata->flake8->-r requirements/tests.txt (line 2)) (3.6.0)\n",
      "Requirement already satisfied: urllib3!=1.25.0,!=1.25.1,<1.26,>=1.21.1 in /environment/miniconda3/lib/python3.7/site-packages (from requests->-r requirements/optional.txt (line 1)) (1.25.11)\n",
      "Requirement already satisfied: chardet<4,>=3.0.2 in /environment/miniconda3/lib/python3.7/site-packages (from requests->-r requirements/optional.txt (line 1)) (3.0.4)\n",
      "Requirement already satisfied: idna<3,>=2.5 in /environment/miniconda3/lib/python3.7/site-packages (from requests->-r requirements/optional.txt (line 1)) (2.10)\n",
      "Requirement already satisfied: certifi>=2017.4.17 in /environment/miniconda3/lib/python3.7/site-packages (from requests->-r requirements/optional.txt (line 1)) (2021.5.30)\n",
      "Using pip 21.1.3 from /environment/miniconda3/lib/python3.7/site-packages/pip (python 3.7)\n",
      "Non-user install because site-packages writeable\n",
      "Created temporary directory: /tmp/pip-ephem-wheel-cache-8ov81cpv\n",
      "Created temporary directory: /tmp/pip-req-tracker-_pgxv70h\n",
      "Initialized build tracking at /tmp/pip-req-tracker-_pgxv70h\n",
      "Created build tracker: /tmp/pip-req-tracker-_pgxv70h\n",
      "Entered build tracker: /tmp/pip-req-tracker-_pgxv70h\n",
      "Created temporary directory: /tmp/pip-install-yn9gvhw0\n",
      "Looking in indexes: https://pypi.tuna.tsinghua.edu.cn/simple\n",
      "Obtaining file:///home/featurize/work/7/mmpose\n",
      "  Added file:///home/featurize/work/7/mmpose to build tracker '/tmp/pip-req-tracker-_pgxv70h'\n",
      "    Running setup.py (path:/home/featurize/work/7/mmpose/setup.py) egg_info for package from file:///home/featurize/work/7/mmpose\n",
      "    Created temporary directory: /tmp/pip-pip-egg-info-lnbu1dzg\n",
      "    Running command python setup.py egg_info\n",
      "    running egg_info\n",
      "    creating /tmp/pip-pip-egg-info-lnbu1dzg/mmpose.egg-info\n",
      "    writing /tmp/pip-pip-egg-info-lnbu1dzg/mmpose.egg-info/PKG-INFO\n",
      "    writing dependency_links to /tmp/pip-pip-egg-info-lnbu1dzg/mmpose.egg-info/dependency_links.txt\n",
      "    writing requirements to /tmp/pip-pip-egg-info-lnbu1dzg/mmpose.egg-info/requires.txt\n",
      "    writing top-level names to /tmp/pip-pip-egg-info-lnbu1dzg/mmpose.egg-info/top_level.txt\n",
      "    writing manifest file '/tmp/pip-pip-egg-info-lnbu1dzg/mmpose.egg-info/SOURCES.txt'\n",
      "    reading manifest template 'MANIFEST.in'\n",
      "    warning: no files found matching 'mmpose/.mim/model-index.yml'\n",
      "    warning: no files found matching '*.py' under directory 'mmpose/.mim/configs'\n",
      "    warning: no files found matching '*.yml' under directory 'mmpose/.mim/configs'\n",
      "    warning: no files found matching '*.py' under directory 'mmpose/.mim/tools'\n",
      "    warning: no files found matching '*.sh' under directory 'mmpose/.mim/tools'\n",
      "    warning: no files found matching '*.py' under directory 'mmpose/.mim/demo'\n",
      "    writing manifest file '/tmp/pip-pip-egg-info-lnbu1dzg/mmpose.egg-info/SOURCES.txt'\n",
      "  Source in /home/featurize/work/7/mmpose has version 1.0.0rc0, which satisfies requirement mmpose==1.0.0rc0 from file:///home/featurize/work/7/mmpose\n",
      "  Removed mmpose==1.0.0rc0 from file:///home/featurize/work/7/mmpose from build tracker '/tmp/pip-req-tracker-_pgxv70h'\n",
      "Requirement already satisfied: chumpy in /environment/miniconda3/lib/python3.7/site-packages (from mmpose==1.0.0rc0) (0.70)\n",
      "Requirement already satisfied: json_tricks in /environment/miniconda3/lib/python3.7/site-packages (from mmpose==1.0.0rc0) (3.16.1)\n",
      "Requirement already satisfied: matplotlib in /environment/miniconda3/lib/python3.7/site-packages (from mmpose==1.0.0rc0) (3.5.0)\n",
      "Requirement already satisfied: munkres in /environment/miniconda3/lib/python3.7/site-packages (from mmpose==1.0.0rc0) (1.1.4)\n",
      "Requirement already satisfied: numpy in /environment/miniconda3/lib/python3.7/site-packages (from mmpose==1.0.0rc0) (1.21.4)\n",
      "Requirement already satisfied: opencv-python in /environment/miniconda3/lib/python3.7/site-packages (from mmpose==1.0.0rc0) (4.5.4.60)\n",
      "Requirement already satisfied: pillow in /environment/miniconda3/lib/python3.7/site-packages (from mmpose==1.0.0rc0) (8.4.0)\n",
      "Requirement already satisfied: scipy in /environment/miniconda3/lib/python3.7/site-packages (from mmpose==1.0.0rc0) (1.7.3)\n",
      "Requirement already satisfied: torchvision in /environment/miniconda3/lib/python3.7/site-packages (from mmpose==1.0.0rc0) (0.11.1+cu113)\n",
      "Requirement already satisfied: xtcocotools>=1.12 in /environment/miniconda3/lib/python3.7/site-packages (from mmpose==1.0.0rc0) (1.13)\n",
      "Requirement already satisfied: setuptools>=18.0 in /environment/miniconda3/lib/python3.7/site-packages (from xtcocotools>=1.12->mmpose==1.0.0rc0) (52.0.0.post20210125)\n",
      "Requirement already satisfied: cython>=0.27.3 in /environment/miniconda3/lib/python3.7/site-packages (from xtcocotools>=1.12->mmpose==1.0.0rc0) (0.29.33)\n",
      "Requirement already satisfied: fonttools>=4.22.0 in /environment/miniconda3/lib/python3.7/site-packages (from matplotlib->mmpose==1.0.0rc0) (4.28.3)\n",
      "Requirement already satisfied: cycler>=0.10 in /environment/miniconda3/lib/python3.7/site-packages (from matplotlib->mmpose==1.0.0rc0) (0.11.0)\n",
      "Requirement already satisfied: packaging>=20.0 in /environment/miniconda3/lib/python3.7/site-packages (from matplotlib->mmpose==1.0.0rc0) (21.3)\n",
      "Requirement already satisfied: kiwisolver>=1.0.1 in /environment/miniconda3/lib/python3.7/site-packages (from matplotlib->mmpose==1.0.0rc0) (1.3.2)\n",
      "Requirement already satisfied: setuptools-scm>=4 in /environment/miniconda3/lib/python3.7/site-packages (from matplotlib->mmpose==1.0.0rc0) (6.3.2)\n",
      "Requirement already satisfied: python-dateutil>=2.7 in /environment/miniconda3/lib/python3.7/site-packages (from matplotlib->mmpose==1.0.0rc0) (2.8.2)\n",
      "Requirement already satisfied: pyparsing>=2.2.1 in /environment/miniconda3/lib/python3.7/site-packages (from matplotlib->mmpose==1.0.0rc0) (3.0.6)\n",
      "Requirement already satisfied: six>=1.5 in /environment/miniconda3/lib/python3.7/site-packages (from python-dateutil>=2.7->matplotlib->mmpose==1.0.0rc0) (1.16.0)\n",
      "Requirement already satisfied: tomli>=1.0.0 in /environment/miniconda3/lib/python3.7/site-packages (from setuptools-scm>=4->matplotlib->mmpose==1.0.0rc0) (1.2.2)\n",
      "Requirement already satisfied: torch==1.10.0 in /environment/miniconda3/lib/python3.7/site-packages (from torchvision->mmpose==1.0.0rc0) (1.10.0+cu113)\n",
      "Requirement already satisfied: typing-extensions in /environment/miniconda3/lib/python3.7/site-packages (from torch==1.10.0->torchvision->mmpose==1.0.0rc0) (4.0.1)\n",
      "Created temporary directory: /tmp/pip-unpack-qy7vbdjz\n",
      "Installing collected packages: mmpose\n",
      "  Running setup.py develop for mmpose\n",
      "    Running command /environment/miniconda3/bin/python -c 'import io, os, sys, setuptools, tokenize; sys.argv[0] = '\"'\"'/home/featurize/work/7/mmpose/setup.py'\"'\"'; __file__='\"'\"'/home/featurize/work/7/mmpose/setup.py'\"'\"';f = getattr(tokenize, '\"'\"'open'\"'\"', open)(__file__) if os.path.exists(__file__) else io.StringIO('\"'\"'from setuptools import setup; setup()'\"'\"');code = f.read().replace('\"'\"'\\r\\n'\"'\"', '\"'\"'\\n'\"'\"');f.close();exec(compile(code, __file__, '\"'\"'exec'\"'\"'))' develop --no-deps\n",
      "    running develop\n",
      "    running egg_info\n",
      "    creating mmpose.egg-info\n",
      "    writing mmpose.egg-info/PKG-INFO\n",
      "    writing dependency_links to mmpose.egg-info/dependency_links.txt\n",
      "    writing requirements to mmpose.egg-info/requires.txt\n",
      "    writing top-level names to mmpose.egg-info/top_level.txt\n",
      "    writing manifest file 'mmpose.egg-info/SOURCES.txt'\n",
      "    reading manifest template 'MANIFEST.in'\n",
      "    writing manifest file 'mmpose.egg-info/SOURCES.txt'\n",
      "    running build_ext\n",
      "    Creating /environment/miniconda3/lib/python3.7/site-packages/mmpose.egg-link (link to .)\n",
      "    Adding mmpose 1.0.0rc0 to easy-install.pth file\n",
      "\n",
      "    Installed /home/featurize/work/7/mmpose\n",
      "Successfully installed mmpose-1.0.0rc0\n",
      "Removed build tracker: '/tmp/pip-req-tracker-_pgxv70h'\n"
     ]
    }
   ],
   "source": [
    "!pip install -r requirements.txt\n",
    "!pip install -v -e ."
   ]
  },
  {
   "cell_type": "markdown",
   "id": "57588840-d990-44c6-a1e2-151d869dab8d",
   "metadata": {},
   "source": [
    "## 安装MMTracking"
   ]
  },
  {
   "cell_type": "code",
   "execution_count": 10,
   "id": "a448d99e-068b-4e68-a66c-21423daa087e",
   "metadata": {},
   "outputs": [],
   "source": [
    "os.chdir('../')"
   ]
  },
  {
   "cell_type": "code",
   "execution_count": 11,
   "id": "78babbeb-f833-48e5-a038-e8bdfa143a00",
   "metadata": {},
   "outputs": [],
   "source": [
    "# 删掉原有的 mmtracking 文件夹（如有）\n",
    "!rm -rf mmtracking"
   ]
  },
  {
   "cell_type": "code",
   "execution_count": 12,
   "id": "cf386ad1-86c4-4ecb-bcaa-bd808742145f",
   "metadata": {},
   "outputs": [
    {
     "name": "stdout",
     "output_type": "stream",
     "text": [
      "正克隆到 'mmtracking'...\n",
      "remote: Enumerating objects: 7878, done.\u001b[K\n",
      "remote: Counting objects: 100% (148/148), done.\u001b[K\n",
      "remote: Compressing objects: 100% (121/121), done.\u001b[K\n",
      "remote: Total 7878 (delta 42), reused 95 (delta 24), pack-reused 7730\u001b[K\n",
      "接收对象中: 100% (7878/7878), 2.95 MiB | 2.05 MiB/s, 完成.\n",
      "处理 delta 中: 100% (4950/4950), 完成.\n"
     ]
    }
   ],
   "source": [
    "# 从 github 上下载最新的 mmtracking 源代码\n",
    "!git clone https://github.com/open-mmlab/mmtracking.git"
   ]
  },
  {
   "cell_type": "code",
   "execution_count": 13,
   "id": "855da0dc-006a-4c58-a68b-7431e6dc0d8f",
   "metadata": {},
   "outputs": [],
   "source": [
    "# 进入 mmtracking 主目录\n",
    "os.chdir('mmtracking')"
   ]
  },
  {
   "cell_type": "code",
   "execution_count": 14,
   "id": "09d4f839-01a5-4a92-b813-c751e42b9ab9",
   "metadata": {
    "tags": []
   },
   "outputs": [
    {
     "name": "stdout",
     "output_type": "stream",
     "text": [
      "Looking in indexes: https://pypi.tuna.tsinghua.edu.cn/simple\n",
      "Requirement already satisfied: cython in /environment/miniconda3/lib/python3.7/site-packages (from -r requirements/build.txt (line 1)) (0.29.33)\n",
      "Requirement already satisfied: numpy in /environment/miniconda3/lib/python3.7/site-packages (from -r requirements/build.txt (line 2)) (1.21.4)\n",
      "Using pip 21.1.3 from /environment/miniconda3/lib/python3.7/site-packages/pip (python 3.7)\n",
      "Non-user install because site-packages writeable\n",
      "Created temporary directory: /tmp/pip-ephem-wheel-cache-98kavspy\n",
      "Created temporary directory: /tmp/pip-req-tracker-q84nq1kt\n",
      "Initialized build tracking at /tmp/pip-req-tracker-q84nq1kt\n",
      "Created build tracker: /tmp/pip-req-tracker-q84nq1kt\n",
      "Entered build tracker: /tmp/pip-req-tracker-q84nq1kt\n",
      "Created temporary directory: /tmp/pip-install-1dgbfcdi\n",
      "Looking in indexes: https://pypi.tuna.tsinghua.edu.cn/simple\n",
      "Obtaining file:///home/featurize/work/7/mmtracking\n",
      "  Added file:///home/featurize/work/7/mmtracking to build tracker '/tmp/pip-req-tracker-q84nq1kt'\n",
      "    Running setup.py (path:/home/featurize/work/7/mmtracking/setup.py) egg_info for package from file:///home/featurize/work/7/mmtracking\n",
      "    Created temporary directory: /tmp/pip-pip-egg-info-azuseq32\n",
      "    Running command python setup.py egg_info\n",
      "    running egg_info\n",
      "    creating /tmp/pip-pip-egg-info-azuseq32/mmtrack.egg-info\n",
      "    writing /tmp/pip-pip-egg-info-azuseq32/mmtrack.egg-info/PKG-INFO\n",
      "    writing dependency_links to /tmp/pip-pip-egg-info-azuseq32/mmtrack.egg-info/dependency_links.txt\n",
      "    writing requirements to /tmp/pip-pip-egg-info-azuseq32/mmtrack.egg-info/requires.txt\n",
      "    writing top-level names to /tmp/pip-pip-egg-info-azuseq32/mmtrack.egg-info/top_level.txt\n",
      "    writing manifest file '/tmp/pip-pip-egg-info-azuseq32/mmtrack.egg-info/SOURCES.txt'\n",
      "    reading manifest template 'MANIFEST.in'\n",
      "    warning: no files found matching 'mmtrack/.mim/model-index.yml'\n",
      "    warning: no files found matching '*.py' under directory 'mmtrack/.mim/configs'\n",
      "    warning: no files found matching '*.yml' under directory 'mmtrack/.mim/configs'\n",
      "    warning: no files found matching '*.sh' under directory 'mmtrack/.mim/tools'\n",
      "    warning: no files found matching '*.py' under directory 'mmtrack/.mim/tools'\n",
      "    writing manifest file '/tmp/pip-pip-egg-info-azuseq32/mmtrack.egg-info/SOURCES.txt'\n",
      "  Source in /home/featurize/work/7/mmtracking has version 0.14.0, which satisfies requirement mmtrack==0.14.0 from file:///home/featurize/work/7/mmtracking\n",
      "  Removed mmtrack==0.14.0 from file:///home/featurize/work/7/mmtracking from build tracker '/tmp/pip-req-tracker-q84nq1kt'\n",
      "Requirement already satisfied: attributee in /environment/miniconda3/lib/python3.7/site-packages (from mmtrack==0.14.0) (0.1.7)\n",
      "Requirement already satisfied: dotty_dict in /environment/miniconda3/lib/python3.7/site-packages (from mmtrack==0.14.0) (1.3.1)\n",
      "Requirement already satisfied: einops in /environment/miniconda3/lib/python3.7/site-packages (from mmtrack==0.14.0) (0.6.0)\n",
      "Requirement already satisfied: lap in /environment/miniconda3/lib/python3.7/site-packages (from mmtrack==0.14.0) (0.4.0)\n",
      "Requirement already satisfied: matplotlib in /environment/miniconda3/lib/python3.7/site-packages (from mmtrack==0.14.0) (3.5.0)\n",
      "Requirement already satisfied: mmcls<1.0.0,>=0.16.0 in /environment/miniconda3/lib/python3.7/site-packages (from mmtrack==0.14.0) (0.25.0)\n",
      "Requirement already satisfied: motmetrics in /environment/miniconda3/lib/python3.7/site-packages (from mmtrack==0.14.0) (1.4.0)\n",
      "Requirement already satisfied: packaging in /environment/miniconda3/lib/python3.7/site-packages (from mmtrack==0.14.0) (21.3)\n",
      "Requirement already satisfied: pandas<=1.3.5 in /environment/miniconda3/lib/python3.7/site-packages (from mmtrack==0.14.0) (1.3.4)\n",
      "Requirement already satisfied: pycocotools in /environment/miniconda3/lib/python3.7/site-packages (from mmtrack==0.14.0) (2.0.6)\n",
      "Requirement already satisfied: scipy<=1.7.3 in /environment/miniconda3/lib/python3.7/site-packages (from mmtrack==0.14.0) (1.7.3)\n",
      "Requirement already satisfied: seaborn in /environment/miniconda3/lib/python3.7/site-packages (from mmtrack==0.14.0) (0.12.2)\n",
      "Requirement already satisfied: terminaltables in /environment/miniconda3/lib/python3.7/site-packages (from mmtrack==0.14.0) (3.1.10)\n",
      "Requirement already satisfied: tqdm in /environment/miniconda3/lib/python3.7/site-packages (from mmtrack==0.14.0) (4.61.2)\n",
      "Requirement already satisfied: numpy in /environment/miniconda3/lib/python3.7/site-packages (from mmcls<1.0.0,>=0.16.0->mmtrack==0.14.0) (1.21.4)\n",
      "Requirement already satisfied: kiwisolver>=1.0.1 in /environment/miniconda3/lib/python3.7/site-packages (from matplotlib->mmtrack==0.14.0) (1.3.2)\n",
      "Requirement already satisfied: cycler>=0.10 in /environment/miniconda3/lib/python3.7/site-packages (from matplotlib->mmtrack==0.14.0) (0.11.0)\n",
      "Requirement already satisfied: python-dateutil>=2.7 in /environment/miniconda3/lib/python3.7/site-packages (from matplotlib->mmtrack==0.14.0) (2.8.2)\n",
      "Requirement already satisfied: fonttools>=4.22.0 in /environment/miniconda3/lib/python3.7/site-packages (from matplotlib->mmtrack==0.14.0) (4.28.3)\n",
      "Requirement already satisfied: setuptools-scm>=4 in /environment/miniconda3/lib/python3.7/site-packages (from matplotlib->mmtrack==0.14.0) (6.3.2)\n",
      "Requirement already satisfied: pyparsing>=2.2.1 in /environment/miniconda3/lib/python3.7/site-packages (from matplotlib->mmtrack==0.14.0) (3.0.6)\n",
      "Requirement already satisfied: pillow>=6.2.0 in /environment/miniconda3/lib/python3.7/site-packages (from matplotlib->mmtrack==0.14.0) (8.4.0)\n",
      "Requirement already satisfied: pytz>=2017.3 in /environment/miniconda3/lib/python3.7/site-packages (from pandas<=1.3.5->mmtrack==0.14.0) (2021.3)\n",
      "Requirement already satisfied: six>=1.5 in /environment/miniconda3/lib/python3.7/site-packages (from python-dateutil>=2.7->matplotlib->mmtrack==0.14.0) (1.16.0)\n",
      "Requirement already satisfied: setuptools in /environment/miniconda3/lib/python3.7/site-packages (from setuptools-scm>=4->matplotlib->mmtrack==0.14.0) (52.0.0.post20210125)\n",
      "Requirement already satisfied: tomli>=1.0.0 in /environment/miniconda3/lib/python3.7/site-packages (from setuptools-scm>=4->matplotlib->mmtrack==0.14.0) (1.2.2)\n",
      "Requirement already satisfied: xmltodict>=0.12.0 in /environment/miniconda3/lib/python3.7/site-packages (from motmetrics->mmtrack==0.14.0) (0.13.0)\n",
      "Requirement already satisfied: typing_extensions in /environment/miniconda3/lib/python3.7/site-packages (from seaborn->mmtrack==0.14.0) (4.0.1)\n",
      "Created temporary directory: /tmp/pip-unpack-d35t5q5w\n",
      "Installing collected packages: mmtrack\n",
      "  Running setup.py develop for mmtrack\n",
      "    Running command /environment/miniconda3/bin/python -c 'import io, os, sys, setuptools, tokenize; sys.argv[0] = '\"'\"'/home/featurize/work/7/mmtracking/setup.py'\"'\"'; __file__='\"'\"'/home/featurize/work/7/mmtracking/setup.py'\"'\"';f = getattr(tokenize, '\"'\"'open'\"'\"', open)(__file__) if os.path.exists(__file__) else io.StringIO('\"'\"'from setuptools import setup; setup()'\"'\"');code = f.read().replace('\"'\"'\\r\\n'\"'\"', '\"'\"'\\n'\"'\"');f.close();exec(compile(code, __file__, '\"'\"'exec'\"'\"'))' develop --no-deps\n",
      "    running develop\n",
      "    running egg_info\n",
      "    creating mmtrack.egg-info\n",
      "    writing mmtrack.egg-info/PKG-INFO\n",
      "    writing dependency_links to mmtrack.egg-info/dependency_links.txt\n",
      "    writing requirements to mmtrack.egg-info/requires.txt\n",
      "    writing top-level names to mmtrack.egg-info/top_level.txt\n",
      "    writing manifest file 'mmtrack.egg-info/SOURCES.txt'\n",
      "    reading manifest template 'MANIFEST.in'\n",
      "    writing manifest file 'mmtrack.egg-info/SOURCES.txt'\n",
      "    /environment/miniconda3/lib/python3.7/site-packages/torch/utils/cpp_extension.py:381: UserWarning: Attempted to use ninja as the BuildExtension backend but we could not find ninja.. Falling back to using the slow distutils backend.\n",
      "      warnings.warn(msg.format('we could not find ninja.'))\n",
      "    running build_ext\n",
      "    Creating /environment/miniconda3/lib/python3.7/site-packages/mmtrack.egg-link (link to .)\n",
      "    mmtrack 0.14.0 is already the active version in easy-install.pth\n",
      "\n",
      "    Installed /home/featurize/work/7/mmtracking\n",
      "Successfully installed mmtrack-0.14.0\n",
      "Removed build tracker: '/tmp/pip-req-tracker-q84nq1kt'\n"
     ]
    }
   ],
   "source": [
    "# 安装 mmtracking\n",
    "!pip install -r requirements/build.txt\n",
    "!pip install -v -e ."
   ]
  },
  {
   "cell_type": "code",
   "execution_count": 15,
   "id": "eac85003-df21-4178-b7b0-bab7a927cf9d",
   "metadata": {},
   "outputs": [],
   "source": [
    "os.chdir('../')"
   ]
  },
  {
   "cell_type": "markdown",
   "id": "a828bfe4-82e5-497a-9bda-cb9837df2cb3",
   "metadata": {},
   "source": [
    "## 下载预训练模型权重文件和视频素材"
   ]
  },
  {
   "cell_type": "code",
   "execution_count": 16,
   "id": "bd9f5185-e124-4436-8d38-a83456760147",
   "metadata": {},
   "outputs": [],
   "source": [
    "os.chdir('mmpose')"
   ]
  },
  {
   "cell_type": "code",
   "execution_count": 17,
   "id": "5aac1d0c-dbf5-478c-ab80-7e2aa0ab0f01",
   "metadata": {},
   "outputs": [],
   "source": [
    "# 创建 checkpoints 文件夹，用于存放预训练模型权重文件\n",
    "os.mkdir('checkpoints')\n",
    "\n",
    "# 创建 outputs 文件夹，用于存放预测结果\n",
    "os.mkdir('outputs')\n",
    "\n",
    "# 创建 data 文件夹，用于存放视频\n",
    "os.mkdir('data')"
   ]
  },
  {
   "cell_type": "markdown",
   "id": "e4fb1cb6-2b9b-418c-9230-6b413c748095",
   "metadata": {
    "tags": []
   },
   "source": [
    "## 下载素材\n",
    "\n",
    "如果报错`Unable to establish SSL connection.`，重新运行代码块即可。"
   ]
  },
  {
   "cell_type": "code",
   "execution_count": 18,
   "id": "6b68526d-a28b-487b-9b31-312c2315f254",
   "metadata": {
    "tags": []
   },
   "outputs": [
    {
     "name": "stdout",
     "output_type": "stream",
     "text": [
      "--2023-02-01 16:00:50--  https://zihao-openmmlab.obs.cn-east-3.myhuaweicloud.com/20220610-mmpose/videos/fly.mp4\n",
      "正在连接 172.16.0.13:5848... 已连接。\n",
      "已发出 Proxy 请求，正在等待回应... 200 OK\n",
      "长度： 167194 (163K) [video/mp4]\n",
      "正在保存至: “data/fly.mp4”\n",
      "\n",
      "data/fly.mp4        100%[===================>] 163.28K  --.-KB/s    用时 0.1s    \n",
      "\n",
      "2023-02-01 16:00:50 (1.10 MB/s) - 已保存 “data/fly.mp4” [167194/167194])\n",
      "\n",
      "--2023-02-01 16:00:50--  https://zihao-openmmlab.obs.cn-east-3.myhuaweicloud.com/20220610-mmpose/videos/solo_dance.mp4\n",
      "正在连接 172.16.0.13:5848... 已连接。\n",
      "已发出 Proxy 请求，正在等待回应... 200 OK\n",
      "长度： 4751457 (4.5M) [video/mp4]\n",
      "正在保存至: “data/solo_dance.mp4”\n",
      "\n",
      "data/solo_dance.mp4 100%[===================>]   4.53M  8.80MB/s    用时 0.5s    \n",
      "\n",
      "2023-02-01 16:00:51 (8.80 MB/s) - 已保存 “data/solo_dance.mp4” [4751457/4751457])\n",
      "\n",
      "--2023-02-01 16:00:51--  https://zihao-openmmlab.obs.cn-east-3.myhuaweicloud.com/20220610-mmpose/videos/two_dancers.mp4\n",
      "正在连接 172.16.0.13:5848... 已连接。\n",
      "已发出 Proxy 请求，正在等待回应... 200 OK\n",
      "长度： 3264055 (3.1M) [video/mp4]\n",
      "正在保存至: “data/two_dancers.mp4”\n",
      "\n",
      "data/two_dancers.mp 100%[===================>]   3.11M  6.83MB/s    用时 0.5s    \n",
      "\n",
      "2023-02-01 16:00:52 (6.83 MB/s) - 已保存 “data/two_dancers.mp4” [3264055/3264055])\n",
      "\n",
      "--2023-02-01 16:00:52--  https://zihao-openmmlab.obs.cn-east-3.myhuaweicloud.com/20220610-mmpose/videos/play_piano.mp4\n",
      "正在连接 172.16.0.13:5848... 已连接。\n",
      "已发出 Proxy 请求，正在等待回应... 200 OK\n",
      "长度： 27143412 (26M) [video/mp4]\n",
      "正在保存至: “data/play_piano.mp4”\n",
      "\n",
      "data/play_piano.mp4 100%[===================>]  25.89M  15.0MB/s    用时 1.7s    \n",
      "\n",
      "2023-02-01 16:00:54 (15.0 MB/s) - 已保存 “data/play_piano.mp4” [27143412/27143412])\n",
      "\n",
      "--2023-02-01 16:00:54--  https://zihao-openmmlab.obs.cn-east-3.myhuaweicloud.com/20220610-mmpose/images/piano.jpeg\n",
      "正在连接 172.16.0.13:5848... 已连接。\n",
      "已发出 Proxy 请求，正在等待回应... 200 OK\n",
      "长度： 167767 (164K) [image/jpeg]\n",
      "正在保存至: “data/piano.jpeg”\n",
      "\n",
      "data/piano.jpeg     100%[===================>] 163.83K   753KB/s    用时 0.2s    \n",
      "\n",
      "2023-02-01 16:00:55 (753 KB/s) - 已保存 “data/piano.jpeg” [167767/167767])\n",
      "\n",
      "--2023-02-01 16:00:55--  https://zihao-openmmlab.obs.cn-east-3.myhuaweicloud.com/20220610-mmpose/videos/face_child.mp4\n",
      "正在连接 172.16.0.13:5848... 已连接。\n",
      "已发出 Proxy 请求，正在等待回应... 200 OK\n",
      "长度： 815897 (797K) [video/mp4]\n",
      "正在保存至: “data/face_child.mp4”\n",
      "\n",
      "data/face_child.mp4 100%[===================>] 796.77K  2.59MB/s    用时 0.3s    \n",
      "\n",
      "2023-02-01 16:00:56 (2.59 MB/s) - 已保存 “data/face_child.mp4” [815897/815897])\n",
      "\n",
      "--2023-02-01 16:00:56--  https://zihao-openmmlab.obs.cn-east-3.myhuaweicloud.com/20220610-mmpose/videos/mother.mp4\n",
      "正在连接 172.16.0.13:5848... 已连接。\n",
      "已发出 Proxy 请求，正在等待回应... 200 OK\n",
      "长度： 19442142 (19M) [video/mp4]\n",
      "正在保存至: “data/mother.mp4”\n",
      "\n",
      "data/mother.mp4     100%[===================>]  18.54M  14.5MB/s    用时 1.3s    \n",
      "\n",
      "2023-02-01 16:00:57 (14.5 MB/s) - 已保存 “data/mother.mp4” [19442142/19442142])\n",
      "\n",
      "--2023-02-01 16:00:58--  https://zihao-openmmlab.obs.cn-east-3.myhuaweicloud.com/20220610-mmpose/images/multi-person.jpeg\n",
      "正在连接 172.16.0.13:5848... 已连接。\n",
      "已发出 Proxy 请求，正在等待回应... 200 OK\n",
      "长度： 604280 (590K) [image/jpeg]\n",
      "正在保存至: “data/multi-person.jpeg”\n",
      "\n",
      "data/multi-person.j 100%[===================>] 590.12K  2.34MB/s    用时 0.2s    \n",
      "\n",
      "2023-02-01 16:00:58 (2.34 MB/s) - 已保存 “data/multi-person.jpeg” [604280/604280])\n",
      "\n"
     ]
    }
   ],
   "source": [
    "# 小虫子视频，来源：https://user-images.githubusercontent.com/87690686/165095600-f68e0d42-830d-4c22-8940-c90c9f3bb817.mp4\n",
    "!wget https://zihao-openmmlab.obs.cn-east-3.myhuaweicloud.com/20220610-mmpose/videos/fly.mp4 -O data/fly.mp4\n",
    "\n",
    "# 单人跳舞视频\n",
    "!wget https://zihao-openmmlab.obs.cn-east-3.myhuaweicloud.com/20220610-mmpose/videos/solo_dance.mp4 -O data/solo_dance.mp4\n",
    "# 两个跳舞的人，视频来源：https://www.youtube.com/watch?v=fP_IZKfc4vo\n",
    "!wget https://zihao-openmmlab.obs.cn-east-3.myhuaweicloud.com/20220610-mmpose/videos/two_dancers.mp4 -O data/two_dancers.mp4\n",
    "\n",
    "# 弹钢琴视频，来源：https://mixkit.co/free-stock-video/hands-of-a-pianist-performing-a-song-on-a-piano-41667/\n",
    "!wget https://zihao-openmmlab.obs.cn-east-3.myhuaweicloud.com/20220610-mmpose/videos/play_piano.mp4 -O data/play_piano.mp4\n",
    "\n",
    "# 弹钢琴图片，来源：https://www.pexels.com/zh-cn/photo/6671953/\n",
    "!wget https://zihao-openmmlab.obs.cn-east-3.myhuaweicloud.com/20220610-mmpose/images/piano.jpeg -O data/piano.jpeg\n",
    "\n",
    "# 孩子的笑脸视频，来源：https://mixkit.co/free-stock-video/teacher-and-students-waving-with-painted-hands-36029/\n",
    "!wget https://zihao-openmmlab.obs.cn-east-3.myhuaweicloud.com/20220610-mmpose/videos/face_child.mp4 -O data/face_child.mp4\n",
    "\n",
    "# 妈妈和女儿跳舞，视频来源：https://mixkit.co/free-stock-video/mother-and-daughters-in-a-kitchen-dancing-4565/\n",
    "!wget https://zihao-openmmlab.obs.cn-east-3.myhuaweicloud.com/20220610-mmpose/videos/mother.mp4 -O data/mother.mp4\n",
    "\n",
    "# 多人，图片来源：https://www.pexels.com/zh-cn/photo/2168292/\n",
    "!wget https://zihao-openmmlab.obs.cn-east-3.myhuaweicloud.com/20220610-mmpose/images/multi-person.jpeg -O data/multi-person.jpeg\n"
   ]
  },
  {
   "cell_type": "code",
   "execution_count": 27,
   "id": "cb4dcdd1-8e70-4a2c-984b-9314aeedbeb3",
   "metadata": {},
   "outputs": [
    {
     "name": "stdout",
     "output_type": "stream",
     "text": [
      "--2023-02-01 16:18:43--  https://zihao-download.obs.cn-east-3.myhuaweicloud.com/detectron2/TongjiDancerClub.MOV\n",
      "正在连接 172.16.0.13:5848... 已连接。\n",
      "已发出 Proxy 请求，正在等待回应... 200 OK\n",
      "长度： 5052215 (4.8M) [binary/octet-stream]\n",
      "正在保存至: “data/TongjiDancerClub.MOV”\n",
      "\n",
      "data/TongjiDancerCl 100%[===================>]   4.82M  8.93MB/s    用时 0.5s    \n",
      "\n",
      "2023-02-01 16:18:44 (8.93 MB/s) - 已保存 “data/TongjiDancerClub.MOV” [5052215/5052215])\n",
      "\n",
      "--2023-02-01 16:18:44--  https://zihao-download.obs.cn-east-3.myhuaweicloud.com/detectron2/TongjiDancer.png\n",
      "正在连接 172.16.0.13:5848... 已连接。\n",
      "已发出 Proxy 请求，正在等待回应... 200 OK\n",
      "长度： 10777141 (10M) [image/png]\n",
      "正在保存至: “data/TongjiDancer.png”\n",
      "\n",
      "data/TongjiDancer.p 100%[===================>]  10.28M  13.3MB/s    用时 0.8s    \n",
      "\n",
      "2023-02-01 16:18:45 (13.3 MB/s) - 已保存 “data/TongjiDancer.png” [10777141/10777141])\n",
      "\n",
      "--2023-02-01 16:18:45--  https://zihao-openmmlab.obs.cn-east-3.myhuaweicloud.com/20220610-mmpose/videos/horse1.mp4\n",
      "正在连接 172.16.0.13:5848... 已连接。\n",
      "已发出 Proxy 请求，正在等待回应... 200 OK\n",
      "长度： 16879394 (16M) [video/mp4]\n",
      "正在保存至: “data/horse1.mp4”\n",
      "\n",
      "data/horse1.mp4     100%[===================>]  16.10M  12.7MB/s    用时 1.3s    \n",
      "\n",
      "2023-02-01 16:18:47 (12.7 MB/s) - 已保存 “data/horse1.mp4” [16879394/16879394])\n",
      "\n",
      "--2023-02-01 16:18:47--  https://zihao-openmmlab.obs.cn-east-3.myhuaweicloud.com/20220610-mmpose/videos/macaque1.mp4\n",
      "正在连接 172.16.0.13:5848... 已连接。\n",
      "已发出 Proxy 请求，正在等待回应... 200 OK\n",
      "长度： 38198269 (36M) [video/mp4]\n",
      "正在保存至: “data/macaque1.mp4”\n",
      "\n",
      "data/macaque1.mp4   100%[===================>]  36.43M  17.6MB/s    用时 2.1s    \n",
      "\n",
      "2023-02-01 16:18:49 (17.6 MB/s) - 已保存 “data/macaque1.mp4” [38198269/38198269])\n",
      "\n",
      "--2023-02-01 16:18:49--  https://zihao-openmmlab.obs.cn-east-3.myhuaweicloud.com/20220610-mmpose/videos/zihao_hand.mp4\n",
      "正在连接 172.16.0.13:5848... 已连接。\n",
      "已发出 Proxy 请求，正在等待回应... 200 OK\n",
      "长度： 44345575 (42M) [video/mp4]\n",
      "正在保存至: “data/zihao_hand.mp4”\n",
      "\n",
      "data/zihao_hand.mp4 100%[===================>]  42.29M  16.2MB/s    用时 2.6s    \n",
      "\n",
      "2023-02-01 16:18:52 (16.2 MB/s) - 已保存 “data/zihao_hand.mp4” [44345575/44345575])\n",
      "\n",
      "--2023-02-01 16:18:53--  https://zihao-openmmlab.obs.cn-east-3.myhuaweicloud.com/20220418-mmtracking/data/mot_people_short.mp4\n",
      "正在连接 172.16.0.13:5848... 已连接。\n",
      "已发出 Proxy 请求，正在等待回应... 200 OK\n",
      "长度： 1392164 (1.3M) [video/mp4]\n",
      "正在保存至: “data/mot_people_short.mp4”\n",
      "\n",
      "data/mot_people_sho 100%[===================>]   1.33M  3.58MB/s    用时 0.4s    \n",
      "\n",
      "2023-02-01 16:18:53 (3.58 MB/s) - 已保存 “data/mot_people_short.mp4” [1392164/1392164])\n",
      "\n",
      "--2023-02-01 16:18:53--  https://raw.githubusercontent.com/open-mmlab/mmpose/master/tests/data/nvgesture/sk_color.avi\n",
      "正在连接 172.16.0.13:5848... 已连接。\n",
      "警告: 没有匹配的证书主体别名 (Subject Alternative Name)。\n",
      "\t请求的主机名为 “raw.githubusercontent.com”。\n",
      "已发出 Proxy 请求，正在等待回应... 200 OK\n",
      "长度： 203906 (199K) [video/msvideo]\n",
      "正在保存至: “data/hand.mp4”\n",
      "\n",
      "data/hand.mp4       100%[===================>] 199.13K  1.01MB/s    用时 0.2s    \n",
      "\n",
      "2023-02-01 16:18:54 (1.01 MB/s) - 已保存 “data/hand.mp4” [203906/203906])\n",
      "\n"
     ]
    }
   ],
   "source": [
    "# 同济大学多人舞蹈视频，视频来源：同济大学 C4Family 舞蹈社\n",
    "!wget https://zihao-download.obs.cn-east-3.myhuaweicloud.com/detectron2/TongjiDancerClub.MOV -O data/TongjiDancerClub.MOV\n",
    "!wget https://zihao-download.obs.cn-east-3.myhuaweicloud.com/detectron2/TongjiDancer.png -O data/TongjiDancer.png\n",
    "\n",
    "# 马\n",
    "!wget https://zihao-openmmlab.obs.cn-east-3.myhuaweicloud.com/20220610-mmpose/videos/horse1.mp4 -O data/horse1.mp4\n",
    "\n",
    "# 猕猴\n",
    "!wget https://zihao-openmmlab.obs.cn-east-3.myhuaweicloud.com/20220610-mmpose/videos/macaque1.mp4 -O data/macaque1.mp4\n",
    "\n",
    "# 手势\n",
    "!wget https://zihao-openmmlab.obs.cn-east-3.myhuaweicloud.com/20220610-mmpose/videos/zihao_hand.mp4 -O data/zihao_hand.mp4\n",
    "\n",
    "# 行人\n",
    "!wget https://zihao-openmmlab.obs.cn-east-3.myhuaweicloud.com/20220418-mmtracking/data/mot_people_short.mp4 -O data/mot_people_short.mp4\n",
    "\n",
    "# 狗\n",
    "!wget  -O data/demo_dog.mp4\n",
    "\n",
    "#手部\n",
    "!wget https://raw.githubusercontent.com/open-mmlab/mmpose/master/tests/data/nvgesture/sk_color.avi -O data/hand.mp4 --no-check-certificate"
   ]
  },
  {
   "cell_type": "markdown",
   "id": "fa97e1da-f245-4d32-892d-dec07a6b2c16",
   "metadata": {},
   "source": [
    "## 检查是否安装成功"
   ]
  },
  {
   "cell_type": "code",
   "execution_count": 20,
   "id": "6be5098e-e5e7-402b-841a-4006e9e7cd25",
   "metadata": {},
   "outputs": [
    {
     "name": "stdout",
     "output_type": "stream",
     "text": [
      "Pytorch 版本 1.10.0+cu113\n",
      "torchvision版本 0.11.1+cu113\n",
      "CUDA 是否可用 True\n"
     ]
    }
   ],
   "source": [
    "# 检查 Pytorch\n",
    "import torch, torchvision\n",
    "print('Pytorch 版本', torch.__version__)\n",
    "print('torchvision版本', torchvision.__version__)\n",
    "print('CUDA 是否可用',torch.cuda.is_available())"
   ]
  },
  {
   "cell_type": "code",
   "execution_count": 21,
   "id": "e4ffef5d-eb49-4785-8d06-2d8f88298014",
   "metadata": {},
   "outputs": [
    {
     "name": "stdout",
     "output_type": "stream",
     "text": [
      "CUDA版本 11.3\n",
      "编译器版本 GCC 9.3\n"
     ]
    }
   ],
   "source": [
    "# 检查 mmcv\n",
    "from mmcv.ops import get_compiling_cuda_version, get_compiler_version\n",
    "print('CUDA版本', get_compiling_cuda_version())\n",
    "print('编译器版本', get_compiler_version())"
   ]
  },
  {
   "cell_type": "code",
   "execution_count": 22,
   "id": "851aaea2-6bf8-484c-be38-b42feaa3b53c",
   "metadata": {},
   "outputs": [],
   "source": [
    "# 检查 mmtracking\n",
    "import mmtracking"
   ]
  },
  {
   "cell_type": "code",
   "execution_count": 23,
   "id": "fbd8c8dd-07d2-4c32-9a22-2cdb59e79b26",
   "metadata": {},
   "outputs": [
    {
     "name": "stdout",
     "output_type": "stream",
     "text": [
      "mmpose版本 1.0.0rc0\n"
     ]
    }
   ],
   "source": [
    "# 检查 mmpose\n",
    "import mmpose\n",
    "print('mmpose版本', mmpose.__version__)"
   ]
  },
  {
   "cell_type": "markdown",
   "id": "a1f78d44-31c1-4ced-8fa5-86884fef3912",
   "metadata": {},
   "source": [
    "## 下载配置文件和模型权重文件"
   ]
  },
  {
   "cell_type": "code",
   "execution_count": 24,
   "id": "4be5f98c-41e1-493c-bd45-ef9c9f806035",
   "metadata": {},
   "outputs": [
    {
     "name": "stdout",
     "output_type": "stream",
     "text": [
      "processing td-hm_hrnet-w48_8xb32-210e_coco-256x192...\n",
      "\u001b[2Kdownloading \u001b[90m━━━━━━━━━━━━━━━━━━━━━━━━━━━━━━━\u001b[0m \u001b[32m243.2/243.2 MiB\u001b[0m \u001b[31m4.0 MB/s\u001b[0m eta \u001b[36m0:00:00\u001b[0m00:01\u001b[0m00:03\u001b[0m\n",
      "\u001b[?25h\u001b[32mSuccessfully downloaded hrnet_w48_coco_256x192-b9e0b3ab_20200708.pth to /home/featurize/work/7/mmpose\u001b[0m\n",
      "\u001b[32mSuccessfully dumped td-hm_hrnet-w48_8xb32-210e_coco-256x192.py to /home/featurize/work/7/mmpose\u001b[0m\n"
     ]
    }
   ],
   "source": [
    "!mim download mmpose --config td-hm_hrnet-w48_8xb32-210e_coco-256x192  --dest ."
   ]
  },
  {
   "cell_type": "markdown",
   "id": "89716d32-b021-40f7-bb8b-72f6b9df6157",
   "metadata": {},
   "source": [
    "## 小试牛刀"
   ]
  },
  {
   "cell_type": "code",
   "execution_count": 25,
   "id": "b68f4286-542e-4457-aaf9-1d1f9b7cdb11",
   "metadata": {},
   "outputs": [
    {
     "name": "stdout",
     "output_type": "stream",
     "text": [
      "02/01 16:02:34 - mmengine - \u001b[5m\u001b[4m\u001b[33mWARNING\u001b[0m - The \"model\" registry in mmpose did not set import location. Fallback to call `mmpose.utils.register_all_modules` instead.\n",
      "02/01 16:02:35 - mmengine - \u001b[5m\u001b[4m\u001b[33mWARNING\u001b[0m - The \"KEYPOINT_CODECS\" registry in mmpose did not set import location. Fallback to call `mmpose.utils.register_all_modules` instead.\n",
      "Loads checkpoint by local backend from path: hrnet_w48_coco_256x192-b9e0b3ab_20200708.pth\n",
      "02/01 16:02:36 - mmengine - \u001b[5m\u001b[4m\u001b[33mWARNING\u001b[0m - The \"dataset\" registry in mmpose did not set import location. Fallback to call `mmpose.utils.register_all_modules` instead.\n",
      "02/01 16:02:43 - mmengine - \u001b[5m\u001b[4m\u001b[33mWARNING\u001b[0m - The \"visualizer\" registry in mmpose did not set import location. Fallback to call `mmpose.utils.register_all_modules` instead.\n",
      "/environment/miniconda3/lib/python3.7/site-packages/mmengine/visualization/visualizer.py:163: UserWarning: `Visualizer` backend is not initialized because save_dir is None.\n",
      "  warnings.warn('`Visualizer` backend is not initialized '\n",
      "02/01 16:02:43 - mmengine - \u001b[5m\u001b[4m\u001b[33mWARNING\u001b[0m - The \"transform\" registry in mmpose did not set import location. Fallback to call `mmpose.utils.register_all_modules` instead.\n",
      "/environment/miniconda3/lib/python3.7/site-packages/mmengine/visualization/visualizer.py:709: UserWarning: Warning: The bbox is out of bounds, the drawn bbox may not be in the image\n",
      "  ' the drawn bbox may not be in the image', UserWarning)\n",
      "/environment/miniconda3/lib/python3.7/site-packages/mmengine/visualization/visualizer.py:780: UserWarning: Warning: The polygon is out of bounds, the drawn polygon may not be in the image\n",
      "  ' the drawn polygon may not be in the image', UserWarning)\n"
     ]
    }
   ],
   "source": [
    "!python demo/image_demo.py\\\n",
    "    tests/data/coco/000000000785.jpg \\\n",
    "    td-hm_hrnet-w48_8xb32-210e_coco-256x192.py \\\n",
    "    hrnet_w48_coco_256x192-b9e0b3ab_20200708.pth \\\n",
    "    --out-file vis_results.jpg \\\n",
    "    --draw-heatmap"
   ]
  }
 ],
 "metadata": {
  "kernelspec": {
   "display_name": "Python 3 (ipykernel)",
   "language": "python",
   "name": "python3"
  },
  "language_info": {
   "codemirror_mode": {
    "name": "ipython",
    "version": 3
   },
   "file_extension": ".py",
   "mimetype": "text/x-python",
   "name": "python",
   "nbconvert_exporter": "python",
   "pygments_lexer": "ipython3",
   "version": "3.7.10"
  }
 },
 "nbformat": 4,
 "nbformat_minor": 5
}
