{
 "cells": [
  {
   "cell_type": "markdown",
   "id": "2856e216-745d-4805-8eea-c4535d3633b6",
   "metadata": {},
   "source": [
    "## 进入 MMPose 主目录"
   ]
  },
  {
   "cell_type": "code",
   "execution_count": 1,
   "id": "0110ebb5-9530-45e1-a4cb-8ae9191a6857",
   "metadata": {},
   "outputs": [
    {
     "data": {
      "text/plain": [
       "['.git',\n",
       " '.circleci',\n",
       " '.dev_scripts',\n",
       " '.github',\n",
       " '.gitignore',\n",
       " '.pre-commit-config.yaml',\n",
       " '.pylintrc',\n",
       " '.readthedocs.yml',\n",
       " 'CITATION.cff',\n",
       " 'LICENSE',\n",
       " 'MANIFEST.in',\n",
       " 'README.md',\n",
       " 'README_CN.md',\n",
       " 'configs',\n",
       " 'demo',\n",
       " 'docker',\n",
       " 'docs',\n",
       " 'mmpose',\n",
       " 'model-index.yml',\n",
       " 'pytest.ini',\n",
       " 'requirements.txt',\n",
       " 'requirements',\n",
       " 'resources',\n",
       " 'setup.cfg',\n",
       " 'setup.py',\n",
       " 'tests',\n",
       " 'tools',\n",
       " 'mmpose.egg-info',\n",
       " 'checkpoints',\n",
       " 'outputs',\n",
       " 'data',\n",
       " 'hrnet_w48_coco_256x192-b9e0b3ab_20200708.pth',\n",
       " 'td-hm_hrnet-w48_8xb32-210e_coco-256x192.py',\n",
       " 'vis_results.jpg',\n",
       " 'vis_results_cat',\n",
       " 'vis_results_dog',\n",
       " 'vis_results_face',\n",
       " 'vis_results_face_child',\n",
       " 'vis_results_hand',\n",
       " 'vis_results_handvideo']"
      ]
     },
     "execution_count": 1,
     "metadata": {},
     "output_type": "execute_result"
    }
   ],
   "source": [
    "import os\n",
    "os.chdir('mmpose')\n",
    "os.listdir()"
   ]
  },
  {
   "cell_type": "markdown",
   "id": "8b906f74-1369-453a-b771-fa87072bcddd",
   "metadata": {},
   "source": [
    "## 二维人体全身姿势自上而下的图像演示"
   ]
  },
  {
   "cell_type": "markdown",
   "id": "f630c7d4-b056-4a18-950a-bd26f3e87a1b",
   "metadata": {},
   "source": [
    "### 使用完整图像作为输入\n",
    "### 我们提供了一个演示脚本来测试单个图像，使用完整图像作为输入边界框"
   ]
  },
  {
   "cell_type": "code",
   "execution_count": 2,
   "id": "75d94034-a8b5-48b5-b5c0-48b529c7262d",
   "metadata": {},
   "outputs": [
    {
     "name": "stdout",
     "output_type": "stream",
     "text": [
      "02/01 16:33:43 - mmengine - \u001b[5m\u001b[4m\u001b[33mWARNING\u001b[0m - The \"model\" registry in mmpose did not set import location. Fallback to call `mmpose.utils.register_all_modules` instead.\n",
      "02/01 16:33:43 - mmengine - \u001b[5m\u001b[4m\u001b[33mWARNING\u001b[0m - The \"KEYPOINT_CODECS\" registry in mmpose did not set import location. Fallback to call `mmpose.utils.register_all_modules` instead.\n",
      "Loads checkpoint by http backend from path: https://download.openmmlab.com/mmpose/top_down/vipnas/vipnas_res50_wholebody_256x192_dark-67c0ce35_20211112.pth\n",
      "Downloading: \"https://download.openmmlab.com/mmpose/top_down/vipnas/vipnas_res50_wholebody_256x192_dark-67c0ce35_20211112.pth\" to /home/featurize/.cache/torch/hub/checkpoints/vipnas_res50_wholebody_256x192_dark-67c0ce35_20211112.pth\n",
      "100%|██████████████████████████████████████| 28.2M/28.2M [00:07<00:00, 4.02MB/s]\n",
      "02/01 16:33:51 - mmengine - \u001b[5m\u001b[4m\u001b[33mWARNING\u001b[0m - The \"dataset\" registry in mmpose did not set import location. Fallback to call `mmpose.utils.register_all_modules` instead.\n",
      "02/01 16:33:58 - mmengine - \u001b[5m\u001b[4m\u001b[33mWARNING\u001b[0m - The \"visualizer\" registry in mmpose did not set import location. Fallback to call `mmpose.utils.register_all_modules` instead.\n",
      "/environment/miniconda3/lib/python3.7/site-packages/mmengine/visualization/visualizer.py:163: UserWarning: `Visualizer` backend is not initialized because save_dir is None.\n",
      "  warnings.warn('`Visualizer` backend is not initialized '\n",
      "02/01 16:33:58 - mmengine - \u001b[5m\u001b[4m\u001b[33mWARNING\u001b[0m - The \"transform\" registry in mmpose did not set import location. Fallback to call `mmpose.utils.register_all_modules` instead.\n",
      "/environment/miniconda3/lib/python3.7/site-packages/mmengine/visualization/visualizer.py:709: UserWarning: Warning: The bbox is out of bounds, the drawn bbox may not be in the image\n",
      "  ' the drawn bbox may not be in the image', UserWarning)\n",
      "/environment/miniconda3/lib/python3.7/site-packages/mmengine/visualization/visualizer.py:780: UserWarning: Warning: The polygon is out of bounds, the drawn polygon may not be in the image\n",
      "  ' the drawn polygon may not be in the image', UserWarning)\n"
     ]
    }
   ],
   "source": [
    "!python demo/image_demo.py \\\n",
    "    tests/data/coco/000000000785.jpg \\\n",
    "    configs/wholebody_2d_keypoint/topdown_heatmap/coco-wholebody/td-hm_vipnas-res50_dark-8xb64-210e_coco-wholebody-256x192.py \\\n",
    "    https://download.openmmlab.com/mmpose/top_down/vipnas/vipnas_res50_wholebody_256x192_dark-67c0ce35_20211112.pth \\\n",
    "    --out-file vis_results_wholebody.jpg"
   ]
  },
  {
   "cell_type": "markdown",
   "id": "87dccdb7-bdc3-478c-8df6-9bcbd2da8d00",
   "metadata": {},
   "source": [
    "### 使用 mmdet 进行人体边界框检测\n",
    "### 我们提供了一个演示脚本来运行 mmdet 进行人体检测，并运行 mmpose 进行姿态估计。"
   ]
  },
  {
   "cell_type": "code",
   "execution_count": 3,
   "id": "a3a341a8-e684-4f36-976b-618e2c5051a8",
   "metadata": {},
   "outputs": [
    {
     "name": "stdout",
     "output_type": "stream",
     "text": [
      "02/01 16:37:26 - mmengine - \u001b[5m\u001b[4m\u001b[33mWARNING\u001b[0m - The \"model\" registry in mmdet did not set import location. Fallback to call `mmdet.utils.register_all_modules` instead.\n",
      "02/01 16:37:26 - mmengine - \u001b[5m\u001b[4m\u001b[33mWARNING\u001b[0m - The \"task util\" registry in mmdet did not set import location. Fallback to call `mmdet.utils.register_all_modules` instead.\n",
      "Loads checkpoint by http backend from path: https://download.openmmlab.com/mmdetection/v2.0/faster_rcnn/faster_rcnn_r50_fpn_1x_coco/faster_rcnn_r50_fpn_1x_coco_20200130-047c8118.pth\n",
      "02/01 16:37:34 - mmengine - \u001b[5m\u001b[4m\u001b[33mWARNING\u001b[0m - The \"model\" registry in mmpose did not set import location. Fallback to call `mmpose.utils.register_all_modules` instead.\n",
      "02/01 16:37:35 - mmengine - \u001b[5m\u001b[4m\u001b[33mWARNING\u001b[0m - The \"KEYPOINT_CODECS\" registry in mmpose did not set import location. Fallback to call `mmpose.utils.register_all_modules` instead.\n",
      "Loads checkpoint by http backend from path: https://download.openmmlab.com/mmpose/top_down/hrnet/hrnet_w48_coco_wholebody_384x288_dark-f5726563_20200918.pth\n",
      "Downloading: \"https://download.openmmlab.com/mmpose/top_down/hrnet/hrnet_w48_coco_wholebody_384x288_dark-f5726563_20200918.pth\" to /home/featurize/.cache/torch/hub/checkpoints/hrnet_w48_coco_wholebody_384x288_dark-f5726563_20200918.pth\n",
      "100%|████████████████████████████████████████| 243M/243M [01:17<00:00, 3.27MB/s]\n",
      "02/01 16:38:54 - mmengine - \u001b[5m\u001b[4m\u001b[33mWARNING\u001b[0m - The \"dataset\" registry in mmpose did not set import location. Fallback to call `mmpose.utils.register_all_modules` instead.\n",
      "02/01 16:38:55 - mmengine - \u001b[5m\u001b[4m\u001b[33mWARNING\u001b[0m - The \"visualizer\" registry in mmpose did not set import location. Fallback to call `mmpose.utils.register_all_modules` instead.\n",
      "/environment/miniconda3/lib/python3.7/site-packages/mmengine/visualization/visualizer.py:163: UserWarning: `Visualizer` backend is not initialized because save_dir is None.\n",
      "  warnings.warn('`Visualizer` backend is not initialized '\n",
      "/environment/miniconda3/lib/python3.7/site-packages/mmdet/utils/setup_env.py:83: UserWarning: The current default scope \"mmpose\" is not \"mmdet\", `register_all_modules` will force the currentdefault scope to be \"mmdet\". If this is not expected, please set `init_default_scope=False`.\n",
      "  warnings.warn('The current default scope '\n",
      "02/01 16:38:55 - mmengine - \u001b[5m\u001b[4m\u001b[33mWARNING\u001b[0m - The \"transform\" registry in mmdet did not set import location. Fallback to call `mmdet.utils.register_all_modules` instead.\n",
      "/home/featurize/work/7/mmpose/mmpose/utils/setup_env.py:79: UserWarning: The current default scope \"mmdet\" is not \"mmpose\", `register_all_modules` will force the currentdefault scope to be \"mmpose\". If this is not expected, please set `init_default_scope=False`.\n",
      "  warnings.warn('The current default scope '\n",
      "02/01 16:38:55 - mmengine - \u001b[5m\u001b[4m\u001b[33mWARNING\u001b[0m - The \"transform\" registry in mmpose did not set import location. Fallback to call `mmpose.utils.register_all_modules` instead.\n"
     ]
    }
   ],
   "source": [
    "!python demo/topdown_demo_with_mmdet.py \\\n",
    "    demo/mmdetection_cfg/faster_rcnn_r50_fpn_coco.py \\\n",
    "    https://download.openmmlab.com/mmdetection/v2.0/faster_rcnn/faster_rcnn_r50_fpn_1x_coco/faster_rcnn_r50_fpn_1x_coco_20200130-047c8118.pth \\\n",
    "    configs/wholebody_2d_keypoint/topdown_heatmap/coco-wholebody/td-hm_hrnet-w48_dark-8xb32-210e_coco-wholebody-384x288.py \\\n",
    "    https://download.openmmlab.com/mmpose/top_down/hrnet/hrnet_w48_coco_wholebody_384x288_dark-f5726563_20200918.pth \\\n",
    "    --input tests/data/coco/000000196141.jpg \\\n",
    "    --output-root vis_results_baseball/ --show"
   ]
  },
  {
   "cell_type": "markdown",
   "id": "e198e069-e335-4f01-8d70-f3c67406c053",
   "metadata": {},
   "source": [
    "## 二维人体全身姿势自上而下的视频演示"
   ]
  },
  {
   "cell_type": "code",
   "execution_count": 4,
   "id": "249c20b5-ba97-4b6f-b29d-5d150011439a",
   "metadata": {},
   "outputs": [
    {
     "name": "stdout",
     "output_type": "stream",
     "text": [
      "02/01 16:41:04 - mmengine - \u001b[5m\u001b[4m\u001b[33mWARNING\u001b[0m - The \"model\" registry in mmdet did not set import location. Fallback to call `mmdet.utils.register_all_modules` instead.\n",
      "02/01 16:41:04 - mmengine - \u001b[5m\u001b[4m\u001b[33mWARNING\u001b[0m - The \"task util\" registry in mmdet did not set import location. Fallback to call `mmdet.utils.register_all_modules` instead.\n",
      "Loads checkpoint by http backend from path: https://download.openmmlab.com/mmdetection/v2.0/faster_rcnn/faster_rcnn_r50_fpn_1x_coco/faster_rcnn_r50_fpn_1x_coco_20200130-047c8118.pth\n",
      "02/01 16:41:12 - mmengine - \u001b[5m\u001b[4m\u001b[33mWARNING\u001b[0m - The \"model\" registry in mmpose did not set import location. Fallback to call `mmpose.utils.register_all_modules` instead.\n",
      "02/01 16:41:13 - mmengine - \u001b[5m\u001b[4m\u001b[33mWARNING\u001b[0m - The \"KEYPOINT_CODECS\" registry in mmpose did not set import location. Fallback to call `mmpose.utils.register_all_modules` instead.\n",
      "Loads checkpoint by http backend from path: https://download.openmmlab.com/mmpose/top_down/hrnet/hrnet_w48_coco_wholebody_384x288_dark-f5726563_20200918.pth\n",
      "02/01 16:41:13 - mmengine - \u001b[5m\u001b[4m\u001b[33mWARNING\u001b[0m - The \"dataset\" registry in mmpose did not set import location. Fallback to call `mmpose.utils.register_all_modules` instead.\n",
      "02/01 16:41:14 - mmengine - \u001b[5m\u001b[4m\u001b[33mWARNING\u001b[0m - The \"visualizer\" registry in mmpose did not set import location. Fallback to call `mmpose.utils.register_all_modules` instead.\n",
      "/environment/miniconda3/lib/python3.7/site-packages/mmengine/visualization/visualizer.py:163: UserWarning: `Visualizer` backend is not initialized because save_dir is None.\n",
      "  warnings.warn('`Visualizer` backend is not initialized '\n",
      "[                                                  ] 0/66, elapsed: 0s, ETA:/environment/miniconda3/lib/python3.7/site-packages/mmdet/utils/setup_env.py:83: UserWarning: The current default scope \"mmpose\" is not \"mmdet\", `register_all_modules` will force the currentdefault scope to be \"mmdet\". If this is not expected, please set `init_default_scope=False`.\n",
      "  warnings.warn('The current default scope '\n",
      "02/01 16:42:29 - mmengine - \u001b[5m\u001b[4m\u001b[33mWARNING\u001b[0m - The \"transform\" registry in mmdet did not set import location. Fallback to call `mmdet.utils.register_all_modules` instead.\n",
      "/home/featurize/work/7/mmpose/mmpose/utils/setup_env.py:79: UserWarning: The current default scope \"mmdet\" is not \"mmpose\", `register_all_modules` will force the currentdefault scope to be \"mmpose\". If this is not expected, please set `init_default_scope=False`.\n",
      "  warnings.warn('The current default scope '\n",
      "02/01 16:42:30 - mmengine - \u001b[5m\u001b[4m\u001b[33mWARNING\u001b[0m - The \"transform\" registry in mmpose did not set import location. Fallback to call `mmpose.utils.register_all_modules` instead.\n",
      "[>                               ] 4/66, 0.0 task/s, elapsed: 102s, ETA:  1583s/environment/miniconda3/lib/python3.7/site-packages/mmengine/visualization/visualizer.py:632: UserWarning: Warning: The circle is out of bounds, the drawn circle may not be in the image\n",
      "  ' the drawn circle may not be in the image', UserWarning)\n",
      "[>>>>>>>>>>>>>>>>>>>>>>>>>>>>>>>] 66/66, 0.1 task/s, elapsed: 625s, ETA:     0s"
     ]
    }
   ],
   "source": [
    "!python demo/topdown_demo_with_mmdet.py \\\n",
    "    demo/mmdetection_cfg/faster_rcnn_r50_fpn_coco.py \\\n",
    "    https://download.openmmlab.com/mmdetection/v2.0/faster_rcnn/faster_rcnn_r50_fpn_1x_coco/faster_rcnn_r50_fpn_1x_coco_20200130-047c8118.pth \\\n",
    "    configs/wholebody_2d_keypoint/topdown_heatmap/coco-wholebody/td-hm_hrnet-w48_dark-8xb32-210e_coco-wholebody-384x288.py \\\n",
    "    https://download.openmmlab.com/mmpose/top_down/hrnet/hrnet_w48_coco_wholebody_384x288_dark-f5726563_20200918.pth \\\n",
    "    --input https://user-images.githubusercontent.com/87690686/137440639-fb08603d-9a35-474e-b65f-46b5c06b68d6.mp4 \\\n",
    "    --output-root vis_results_dance/ --show"
   ]
  },
  {
   "cell_type": "code",
   "execution_count": null,
   "id": "d0ae88d8-ccde-49ce-8df1-4922a2135c22",
   "metadata": {},
   "outputs": [],
   "source": []
  }
 ],
 "metadata": {
  "kernelspec": {
   "display_name": "Python 3 (ipykernel)",
   "language": "python",
   "name": "python3"
  },
  "language_info": {
   "codemirror_mode": {
    "name": "ipython",
    "version": 3
   },
   "file_extension": ".py",
   "mimetype": "text/x-python",
   "name": "python",
   "nbconvert_exporter": "python",
   "pygments_lexer": "ipython3",
   "version": "3.7.10"
  }
 },
 "nbformat": 4,
 "nbformat_minor": 5
}
