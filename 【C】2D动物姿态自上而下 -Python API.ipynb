{
 "cells": [
  {
   "cell_type": "markdown",
   "id": "4f64e51f-89d4-49b5-89a0-d86eb9279fa8",
   "metadata": {},
   "source": [
    "## 进入 MMPose 主目录"
   ]
  },
  {
   "cell_type": "code",
   "execution_count": 1,
   "id": "c830598e-7645-4574-8fa3-598da873ac93",
   "metadata": {},
   "outputs": [
    {
     "data": {
      "text/plain": [
       "['.git',\n",
       " '.circleci',\n",
       " '.dev_scripts',\n",
       " '.github',\n",
       " '.gitignore',\n",
       " '.pre-commit-config.yaml',\n",
       " '.pylintrc',\n",
       " '.readthedocs.yml',\n",
       " 'CITATION.cff',\n",
       " 'LICENSE',\n",
       " 'MANIFEST.in',\n",
       " 'README.md',\n",
       " 'README_CN.md',\n",
       " 'configs',\n",
       " 'demo',\n",
       " 'docker',\n",
       " 'docs',\n",
       " 'mmpose',\n",
       " 'model-index.yml',\n",
       " 'pytest.ini',\n",
       " 'requirements.txt',\n",
       " 'requirements',\n",
       " 'resources',\n",
       " 'setup.cfg',\n",
       " 'setup.py',\n",
       " 'tests',\n",
       " 'tools',\n",
       " 'mmpose.egg-info',\n",
       " 'checkpoints',\n",
       " 'outputs',\n",
       " 'data',\n",
       " 'hrnet_w48_coco_256x192-b9e0b3ab_20200708.pth',\n",
       " 'td-hm_hrnet-w48_8xb32-210e_coco-256x192.py',\n",
       " 'vis_results.jpg']"
      ]
     },
     "execution_count": 1,
     "metadata": {},
     "output_type": "execute_result"
    }
   ],
   "source": [
    "import os\n",
    "os.chdir('mmpose')\n",
    "os.listdir()"
   ]
  },
  {
   "cell_type": "markdown",
   "id": "a97d8ac9-d9d4-4431-9a74-5debd1d4b21e",
   "metadata": {},
   "source": [
    "## 演示示例"
   ]
  },
  {
   "cell_type": "markdown",
   "id": "88934c45-50c5-4778-aa47-2e5b33180ecb",
   "metadata": {},
   "source": [
    "!python demo/topdown_demo_with_mmdet.py \\\n",
    "    ${MMDET_CONFIG_FILE} ${MMDET_CHECKPOINT_FILE} \\\n",
    "    ${MMPOSE_CONFIG_FILE} ${MMPOSE_CHECKPOINT_FILE} \\\n",
    "    --input ${INPUT_PATH} --det-cat-id ${DET_CAT_ID} \\\n",
    "    [--show] [--output-root ${OUTPUT_DIR}]  \\\n",
    "    [--draw-heatmap ${DRAW_HEATMAP}] [--radius ${KPT_RADIUS}] \\\n",
    "    [--kpt-thr ${KPT_SCORE_THR}] [--bbox-thr ${BBOX_SCORE_THR}] \\\n",
    "    [--device ${GPU_ID or CPU}]"
   ]
  },
  {
   "cell_type": "markdown",
   "id": "7a61115a-3c9e-454d-882a-a02e22501114",
   "metadata": {},
   "source": [
    "## 自上而下动物姿态估计单个图像"
   ]
  },
  {
   "cell_type": "markdown",
   "id": "baac685b-da63-400c-aea6-aca6608e35da",
   "metadata": {},
   "source": [
    "如果您使用基于热图的模型并设置参数--draw-heatmap，则预测的热图将与关键点一起可视化。\n",
    "--det-cat-id=15选择了检测到的带有标签“猫”的边界框。15 是 COCO 数据集中“猫”类别的索引，检测模型在该数据集上进行训练。\n",
    "COCO-animals 在 COCO 数据集中，有 80 个对象类别，包括 10 个常见animal类别\n",
    "（14：'bird'，15：'cat'，16：'dog'，17：'horse'，18：'sheep'，19： '牛'，20：'大象'，21：'熊'，22：'斑马'，23：'长颈鹿'）。"
   ]
  },
  {
   "cell_type": "code",
   "execution_count": 2,
   "id": "3252675d-004b-432a-a097-ea0cd19c5a57",
   "metadata": {},
   "outputs": [
    {
     "name": "stdout",
     "output_type": "stream",
     "text": [
      "02/01 16:06:34 - mmengine - \u001b[5m\u001b[4m\u001b[33mWARNING\u001b[0m - The \"model\" registry in mmdet did not set import location. Fallback to call `mmdet.utils.register_all_modules` instead.\n",
      "02/01 16:06:34 - mmengine - \u001b[5m\u001b[4m\u001b[33mWARNING\u001b[0m - The \"task util\" registry in mmdet did not set import location. Fallback to call `mmdet.utils.register_all_modules` instead.\n",
      "Loads checkpoint by http backend from path: https://download.openmmlab.com/mmdetection/v2.0/faster_rcnn/faster_rcnn_r50_fpn_1x_coco/faster_rcnn_r50_fpn_1x_coco_20200130-047c8118.pth\n",
      "02/01 16:06:42 - mmengine - \u001b[5m\u001b[4m\u001b[33mWARNING\u001b[0m - The \"model\" registry in mmpose did not set import location. Fallback to call `mmpose.utils.register_all_modules` instead.\n",
      "02/01 16:06:43 - mmengine - \u001b[5m\u001b[4m\u001b[33mWARNING\u001b[0m - The \"KEYPOINT_CODECS\" registry in mmpose did not set import location. Fallback to call `mmpose.utils.register_all_modules` instead.\n",
      "Loads checkpoint by http backend from path: https://download.openmmlab.com/mmpose/animal/hrnet/hrnet_w32_animalpose_256x256-1aa7f075_20210426.pth\n",
      "02/01 16:06:43 - mmengine - \u001b[5m\u001b[4m\u001b[33mWARNING\u001b[0m - The \"dataset\" registry in mmpose did not set import location. Fallback to call `mmpose.utils.register_all_modules` instead.\n",
      "02/01 16:06:43 - mmengine - \u001b[5m\u001b[4m\u001b[33mWARNING\u001b[0m - The \"visualizer\" registry in mmpose did not set import location. Fallback to call `mmpose.utils.register_all_modules` instead.\n",
      "/environment/miniconda3/lib/python3.7/site-packages/mmengine/visualization/visualizer.py:163: UserWarning: `Visualizer` backend is not initialized because save_dir is None.\n",
      "  warnings.warn('`Visualizer` backend is not initialized '\n",
      "/environment/miniconda3/lib/python3.7/site-packages/mmdet/utils/setup_env.py:83: UserWarning: The current default scope \"mmpose\" is not \"mmdet\", `register_all_modules` will force the currentdefault scope to be \"mmdet\". If this is not expected, please set `init_default_scope=False`.\n",
      "  warnings.warn('The current default scope '\n",
      "02/01 16:06:43 - mmengine - \u001b[5m\u001b[4m\u001b[33mWARNING\u001b[0m - The \"transform\" registry in mmdet did not set import location. Fallback to call `mmdet.utils.register_all_modules` instead.\n",
      "/home/featurize/work/7/mmpose/mmpose/utils/setup_env.py:79: UserWarning: The current default scope \"mmdet\" is not \"mmpose\", `register_all_modules` will force the currentdefault scope to be \"mmpose\". If this is not expected, please set `init_default_scope=False`.\n",
      "  warnings.warn('The current default scope '\n",
      "02/01 16:06:43 - mmengine - \u001b[5m\u001b[4m\u001b[33mWARNING\u001b[0m - The \"transform\" registry in mmpose did not set import location. Fallback to call `mmpose.utils.register_all_modules` instead.\n"
     ]
    }
   ],
   "source": [
    "!python demo/topdown_demo_with_mmdet.py \\\n",
    "    demo/mmdetection_cfg/faster_rcnn_r50_fpn_coco.py \\\n",
    "    https://download.openmmlab.com/mmdetection/v2.0/faster_rcnn/faster_rcnn_r50_fpn_1x_coco/faster_rcnn_r50_fpn_1x_coco_20200130-047c8118.pth \\\n",
    "    configs/animal_2d_keypoint/topdown_heatmap/animalpose/td-hm_hrnet-w32_8xb64-210e_animalpose-256x256.py \\\n",
    "    https://download.openmmlab.com/mmpose/animal/hrnet/hrnet_w32_animalpose_256x256-1aa7f075_20210426.pth \\\n",
    "    --input tests/data/animalpose/ca110.jpeg \\\n",
    "    --output-root vis_results_cat --draw-heatmap --det-cat-id=15"
   ]
  },
  {
   "cell_type": "markdown",
   "id": "cfaddf4b-ae9f-4d03-b87a-abcbc8dcf37e",
   "metadata": {
    "tags": []
   },
   "source": [
    "## 自上而下动物姿态估计视频"
   ]
  },
  {
   "cell_type": "code",
   "execution_count": 3,
   "id": "11ca0e3b-7799-454a-a848-b9dd4633e985",
   "metadata": {},
   "outputs": [
    {
     "name": "stdout",
     "output_type": "stream",
     "text": [
      "02/01 16:06:48 - mmengine - \u001b[5m\u001b[4m\u001b[33mWARNING\u001b[0m - The \"model\" registry in mmdet did not set import location. Fallback to call `mmdet.utils.register_all_modules` instead.\n",
      "02/01 16:06:49 - mmengine - \u001b[5m\u001b[4m\u001b[33mWARNING\u001b[0m - The \"task util\" registry in mmdet did not set import location. Fallback to call `mmdet.utils.register_all_modules` instead.\n",
      "Loads checkpoint by http backend from path: https://download.openmmlab.com/mmdetection/v2.0/faster_rcnn/faster_rcnn_r50_fpn_1x_coco/faster_rcnn_r50_fpn_1x_coco_20200130-047c8118.pth\n",
      "02/01 16:06:56 - mmengine - \u001b[5m\u001b[4m\u001b[33mWARNING\u001b[0m - The \"model\" registry in mmpose did not set import location. Fallback to call `mmpose.utils.register_all_modules` instead.\n",
      "02/01 16:06:56 - mmengine - \u001b[5m\u001b[4m\u001b[33mWARNING\u001b[0m - The \"KEYPOINT_CODECS\" registry in mmpose did not set import location. Fallback to call `mmpose.utils.register_all_modules` instead.\n",
      "Loads checkpoint by http backend from path: https://download.openmmlab.com/mmpose/animal/hrnet/hrnet_w32_animalpose_256x256-1aa7f075_20210426.pth\n",
      "02/01 16:06:56 - mmengine - \u001b[5m\u001b[4m\u001b[33mWARNING\u001b[0m - The \"dataset\" registry in mmpose did not set import location. Fallback to call `mmpose.utils.register_all_modules` instead.\n",
      "02/01 16:06:57 - mmengine - \u001b[5m\u001b[4m\u001b[33mWARNING\u001b[0m - The \"visualizer\" registry in mmpose did not set import location. Fallback to call `mmpose.utils.register_all_modules` instead.\n",
      "/environment/miniconda3/lib/python3.7/site-packages/mmengine/visualization/visualizer.py:163: UserWarning: `Visualizer` backend is not initialized because save_dir is None.\n",
      "  warnings.warn('`Visualizer` backend is not initialized '\n",
      "[                                                  ] 0/65, elapsed: 0s, ETA:/environment/miniconda3/lib/python3.7/site-packages/mmdet/utils/setup_env.py:83: UserWarning: The current default scope \"mmpose\" is not \"mmdet\", `register_all_modules` will force the currentdefault scope to be \"mmdet\". If this is not expected, please set `init_default_scope=False`.\n",
      "  warnings.warn('The current default scope '\n",
      "02/01 16:06:57 - mmengine - \u001b[5m\u001b[4m\u001b[33mWARNING\u001b[0m - The \"transform\" registry in mmdet did not set import location. Fallback to call `mmdet.utils.register_all_modules` instead.\n",
      "/home/featurize/work/7/mmpose/mmpose/utils/setup_env.py:79: UserWarning: The current default scope \"mmdet\" is not \"mmpose\", `register_all_modules` will force the currentdefault scope to be \"mmpose\". If this is not expected, please set `init_default_scope=False`.\n",
      "  warnings.warn('The current default scope '\n",
      "02/01 16:06:57 - mmengine - \u001b[5m\u001b[4m\u001b[33mWARNING\u001b[0m - The \"transform\" registry in mmpose did not set import location. Fallback to call `mmpose.utils.register_all_modules` instead.\n",
      "[>>>>>>>>>>>>>>>>>>>>>>>>>>>>>>>>] 65/65, 2.4 task/s, elapsed: 27s, ETA:     0s"
     ]
    }
   ],
   "source": [
    "!python demo/topdown_demo_with_mmdet.py \\\n",
    "    demo/mmdetection_cfg/faster_rcnn_r50_fpn_coco.py \\\n",
    "    https://download.openmmlab.com/mmdetection/v2.0/faster_rcnn/faster_rcnn_r50_fpn_1x_coco/faster_rcnn_r50_fpn_1x_coco_20200130-047c8118.pth \\\n",
    "    configs/animal_2d_keypoint/topdown_heatmap/animalpose/td-hm_hrnet-w32_8xb64-210e_animalpose-256x256.py \\\n",
    "    https://download.openmmlab.com/mmpose/animal/hrnet/hrnet_w32_animalpose_256x256-1aa7f075_20210426.pth \\\n",
    "    --input data/demo_dog.mp4 \\\n",
    "    --output-root vis_results_dog --draw-heatmap --det-cat-id=16"
   ]
  }
 ],
 "metadata": {
  "kernelspec": {
   "display_name": "Python 3 (ipykernel)",
   "language": "python",
   "name": "python3"
  },
  "language_info": {
   "codemirror_mode": {
    "name": "ipython",
    "version": 3
   },
   "file_extension": ".py",
   "mimetype": "text/x-python",
   "name": "python",
   "nbconvert_exporter": "python",
   "pygments_lexer": "ipython3",
   "version": "3.7.10"
  }
 },
 "nbformat": 4,
 "nbformat_minor": 5
}
