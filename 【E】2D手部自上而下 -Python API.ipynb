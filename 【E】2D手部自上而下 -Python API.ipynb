{
 "cells": [
  {
   "cell_type": "markdown",
   "id": "89357de9-b996-4732-94fc-6a56f59f9013",
   "metadata": {},
   "source": [
    "## 进入 MMPose 主目录"
   ]
  },
  {
   "cell_type": "code",
   "execution_count": 1,
   "id": "a780a2ee-082d-4cec-9ad4-0d5c51e9b8ae",
   "metadata": {},
   "outputs": [
    {
     "data": {
      "text/plain": [
       "['.git',\n",
       " '.circleci',\n",
       " '.dev_scripts',\n",
       " '.github',\n",
       " '.gitignore',\n",
       " '.pre-commit-config.yaml',\n",
       " '.pylintrc',\n",
       " '.readthedocs.yml',\n",
       " 'CITATION.cff',\n",
       " 'LICENSE',\n",
       " 'MANIFEST.in',\n",
       " 'README.md',\n",
       " 'README_CN.md',\n",
       " 'configs',\n",
       " 'demo',\n",
       " 'docker',\n",
       " 'docs',\n",
       " 'mmpose',\n",
       " 'model-index.yml',\n",
       " 'pytest.ini',\n",
       " 'requirements.txt',\n",
       " 'requirements',\n",
       " 'resources',\n",
       " 'setup.cfg',\n",
       " 'setup.py',\n",
       " 'tests',\n",
       " 'tools',\n",
       " 'mmpose.egg-info',\n",
       " 'checkpoints',\n",
       " 'outputs',\n",
       " 'data',\n",
       " 'hrnet_w48_coco_256x192-b9e0b3ab_20200708.pth',\n",
       " 'td-hm_hrnet-w48_8xb32-210e_coco-256x192.py',\n",
       " 'vis_results.jpg',\n",
       " 'vis_results_cat',\n",
       " 'vis_results_dog',\n",
       " 'vis_results_face',\n",
       " 'vis_results_face_child',\n",
       " 'vis_results_hand',\n",
       " 'vis_results_handvideo']"
      ]
     },
     "execution_count": 1,
     "metadata": {},
     "output_type": "execute_result"
    }
   ],
   "source": [
    "import os\n",
    "os.chdir('mmpose')\n",
    "os.listdir()"
   ]
  },
  {
   "cell_type": "markdown",
   "id": "da85d06c-782d-4ccf-958d-078b2db97197",
   "metadata": {},
   "source": [
    "## 二维手部图像演示"
   ]
  },
  {
   "cell_type": "code",
   "execution_count": 2,
   "id": "356b4288-5ae4-4d41-9509-36da4c77b8d9",
   "metadata": {},
   "outputs": [
    {
     "name": "stdout",
     "output_type": "stream",
     "text": [
      "02/01 16:23:25 - mmengine - \u001b[5m\u001b[4m\u001b[33mWARNING\u001b[0m - The \"model\" registry in mmdet did not set import location. Fallback to call `mmdet.utils.register_all_modules` instead.\n",
      "02/01 16:23:27 - mmengine - \u001b[5m\u001b[4m\u001b[33mWARNING\u001b[0m - The \"task util\" registry in mmdet did not set import location. Fallback to call `mmdet.utils.register_all_modules` instead.\n",
      "Loads checkpoint by http backend from path: https://download.openmmlab.com/mmpose/mmdet_pretrained/cascade_rcnn_x101_64x4d_fpn_20e_onehand10k-dac19597_20201030.pth\n",
      "02/01 16:23:34 - mmengine - \u001b[5m\u001b[4m\u001b[33mWARNING\u001b[0m - The \"model\" registry in mmpose did not set import location. Fallback to call `mmpose.utils.register_all_modules` instead.\n",
      "02/01 16:23:35 - mmengine - \u001b[5m\u001b[4m\u001b[33mWARNING\u001b[0m - The \"KEYPOINT_CODECS\" registry in mmpose did not set import location. Fallback to call `mmpose.utils.register_all_modules` instead.\n",
      "Loads checkpoint by http backend from path: https://download.openmmlab.com/mmpose/hand/hrnetv2/hrnetv2_w18_onehand10k_256x256-30bc9c6b_20210330.pth\n",
      "02/01 16:23:35 - mmengine - \u001b[5m\u001b[4m\u001b[33mWARNING\u001b[0m - The \"dataset\" registry in mmpose did not set import location. Fallback to call `mmpose.utils.register_all_modules` instead.\n",
      "02/01 16:23:35 - mmengine - \u001b[5m\u001b[4m\u001b[33mWARNING\u001b[0m - The \"visualizer\" registry in mmpose did not set import location. Fallback to call `mmpose.utils.register_all_modules` instead.\n",
      "/environment/miniconda3/lib/python3.7/site-packages/mmengine/visualization/visualizer.py:163: UserWarning: `Visualizer` backend is not initialized because save_dir is None.\n",
      "  warnings.warn('`Visualizer` backend is not initialized '\n",
      "/environment/miniconda3/lib/python3.7/site-packages/mmdet/utils/setup_env.py:83: UserWarning: The current default scope \"mmpose\" is not \"mmdet\", `register_all_modules` will force the currentdefault scope to be \"mmdet\". If this is not expected, please set `init_default_scope=False`.\n",
      "  warnings.warn('The current default scope '\n",
      "02/01 16:23:35 - mmengine - \u001b[5m\u001b[4m\u001b[33mWARNING\u001b[0m - The \"transform\" registry in mmdet did not set import location. Fallback to call `mmdet.utils.register_all_modules` instead.\n",
      "/home/featurize/work/7/mmpose/mmpose/utils/setup_env.py:79: UserWarning: The current default scope \"mmdet\" is not \"mmpose\", `register_all_modules` will force the currentdefault scope to be \"mmpose\". If this is not expected, please set `init_default_scope=False`.\n",
      "  warnings.warn('The current default scope '\n",
      "02/01 16:23:35 - mmengine - \u001b[5m\u001b[4m\u001b[33mWARNING\u001b[0m - The \"transform\" registry in mmpose did not set import location. Fallback to call `mmpose.utils.register_all_modules` instead.\n"
     ]
    }
   ],
   "source": [
    "!python demo/topdown_demo_with_mmdet.py \\\n",
    "    demo/mmdetection_cfg/cascade_rcnn_x101_64x4d_fpn_1class.py \\\n",
    "    https://download.openmmlab.com/mmpose/mmdet_pretrained/cascade_rcnn_x101_64x4d_fpn_20e_onehand10k-dac19597_20201030.pth \\\n",
    "    configs/hand_2d_keypoint/topdown_heatmap/onehand10k/td-hm_hrnetv2-w18_8xb64-210e_onehand10k-256x256.py \\\n",
    "    https://download.openmmlab.com/mmpose/hand/hrnetv2/hrnetv2_w18_onehand10k_256x256-30bc9c6b_20210330.pth \\\n",
    "    --input tests/data/onehand10k/9.jpg \\\n",
    "    --output-root vis_results_hand --show --draw-heatmap"
   ]
  },
  {
   "cell_type": "markdown",
   "id": "3990c160-9026-45ba-b985-f32dc934344e",
   "metadata": {},
   "source": [
    "## 二维手部视频演示"
   ]
  },
  {
   "cell_type": "code",
   "execution_count": 3,
   "id": "04bb2f27-ca76-4482-8d82-2d54df15ab31",
   "metadata": {},
   "outputs": [
    {
     "name": "stdout",
     "output_type": "stream",
     "text": [
      "02/01 16:23:40 - mmengine - \u001b[5m\u001b[4m\u001b[33mWARNING\u001b[0m - The \"model\" registry in mmdet did not set import location. Fallback to call `mmdet.utils.register_all_modules` instead.\n",
      "02/01 16:23:41 - mmengine - \u001b[5m\u001b[4m\u001b[33mWARNING\u001b[0m - The \"task util\" registry in mmdet did not set import location. Fallback to call `mmdet.utils.register_all_modules` instead.\n",
      "Loads checkpoint by http backend from path: https://download.openmmlab.com/mmpose/mmdet_pretrained/cascade_rcnn_x101_64x4d_fpn_20e_onehand10k-dac19597_20201030.pth\n",
      "02/01 16:23:50 - mmengine - \u001b[5m\u001b[4m\u001b[33mWARNING\u001b[0m - The \"model\" registry in mmpose did not set import location. Fallback to call `mmpose.utils.register_all_modules` instead.\n",
      "02/01 16:23:50 - mmengine - \u001b[5m\u001b[4m\u001b[33mWARNING\u001b[0m - The \"KEYPOINT_CODECS\" registry in mmpose did not set import location. Fallback to call `mmpose.utils.register_all_modules` instead.\n",
      "Loads checkpoint by http backend from path: https://download.openmmlab.com/mmpose/hand/hrnetv2/hrnetv2_w18_onehand10k_256x256-30bc9c6b_20210330.pth\n",
      "02/01 16:23:51 - mmengine - \u001b[5m\u001b[4m\u001b[33mWARNING\u001b[0m - The \"dataset\" registry in mmpose did not set import location. Fallback to call `mmpose.utils.register_all_modules` instead.\n",
      "02/01 16:23:51 - mmengine - \u001b[5m\u001b[4m\u001b[33mWARNING\u001b[0m - The \"visualizer\" registry in mmpose did not set import location. Fallback to call `mmpose.utils.register_all_modules` instead.\n",
      "/environment/miniconda3/lib/python3.7/site-packages/mmengine/visualization/visualizer.py:163: UserWarning: `Visualizer` backend is not initialized because save_dir is None.\n",
      "  warnings.warn('`Visualizer` backend is not initialized '\n",
      "[                                                  ] 0/20, elapsed: 0s, ETA:/environment/miniconda3/lib/python3.7/site-packages/mmdet/utils/setup_env.py:83: UserWarning: The current default scope \"mmpose\" is not \"mmdet\", `register_all_modules` will force the currentdefault scope to be \"mmdet\". If this is not expected, please set `init_default_scope=False`.\n",
      "  warnings.warn('The current default scope '\n",
      "02/01 16:23:51 - mmengine - \u001b[5m\u001b[4m\u001b[33mWARNING\u001b[0m - The \"transform\" registry in mmdet did not set import location. Fallback to call `mmdet.utils.register_all_modules` instead.\n",
      "/home/featurize/work/7/mmpose/mmpose/utils/setup_env.py:79: UserWarning: The current default scope \"mmdet\" is not \"mmpose\", `register_all_modules` will force the currentdefault scope to be \"mmpose\". If this is not expected, please set `init_default_scope=False`.\n",
      "  warnings.warn('The current default scope '\n",
      "02/01 16:23:51 - mmengine - \u001b[5m\u001b[4m\u001b[33mWARNING\u001b[0m - The \"transform\" registry in mmpose did not set import location. Fallback to call `mmpose.utils.register_all_modules` instead.\n",
      "[>>>>>>>>>>>>>>>>>>>>>>>>>>>>>>>>] 20/20, 1.8 task/s, elapsed: 11s, ETA:     0s"
     ]
    }
   ],
   "source": [
    "!python demo/topdown_demo_with_mmdet.py \\\n",
    "    demo/mmdetection_cfg/cascade_rcnn_x101_64x4d_fpn_1class.py \\\n",
    "    https://download.openmmlab.com/mmpose/mmdet_pretrained/cascade_rcnn_x101_64x4d_fpn_20e_onehand10k-dac19597_20201030.pth \\\n",
    "    configs/hand_2d_keypoint/topdown_heatmap/onehand10k/td-hm_hrnetv2-w18_8xb64-210e_onehand10k-256x256.py \\\n",
    "    https://download.openmmlab.com/mmpose/hand/hrnetv2/hrnetv2_w18_onehand10k_256x256-30bc9c6b_20210330.pth \\\n",
    "    --input data/hand.mp4 \\\n",
    "    --output-root vis_results_handvideo --show --draw-heatmap"
   ]
  },
  {
   "cell_type": "code",
   "execution_count": null,
   "id": "f7a06073-456b-4e72-8390-fc108ec3db3c",
   "metadata": {},
   "outputs": [],
   "source": []
  }
 ],
 "metadata": {
  "kernelspec": {
   "display_name": "Python 3 (ipykernel)",
   "language": "python",
   "name": "python3"
  },
  "language_info": {
   "codemirror_mode": {
    "name": "ipython",
    "version": 3
   },
   "file_extension": ".py",
   "mimetype": "text/x-python",
   "name": "python",
   "nbconvert_exporter": "python",
   "pygments_lexer": "ipython3",
   "version": "3.7.10"
  }
 },
 "nbformat": 4,
 "nbformat_minor": 5
}
