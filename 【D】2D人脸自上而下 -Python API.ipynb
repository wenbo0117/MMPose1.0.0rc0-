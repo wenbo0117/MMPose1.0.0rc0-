{
 "cells": [
  {
   "cell_type": "markdown",
   "id": "4e8bb28f-19e7-4d28-8d40-3790df85c273",
   "metadata": {},
   "source": [
    "## 进入 MMPose 主目录"
   ]
  },
  {
   "cell_type": "code",
   "execution_count": 1,
   "id": "37f71f75-f70f-4bca-9aa8-696163b4a6c5",
   "metadata": {},
   "outputs": [
    {
     "data": {
      "text/plain": [
       "['.git',\n",
       " '.circleci',\n",
       " '.dev_scripts',\n",
       " '.github',\n",
       " '.gitignore',\n",
       " '.pre-commit-config.yaml',\n",
       " '.pylintrc',\n",
       " '.readthedocs.yml',\n",
       " 'CITATION.cff',\n",
       " 'LICENSE',\n",
       " 'MANIFEST.in',\n",
       " 'README.md',\n",
       " 'README_CN.md',\n",
       " 'configs',\n",
       " 'demo',\n",
       " 'docker',\n",
       " 'docs',\n",
       " 'mmpose',\n",
       " 'model-index.yml',\n",
       " 'pytest.ini',\n",
       " 'requirements.txt',\n",
       " 'requirements',\n",
       " 'resources',\n",
       " 'setup.cfg',\n",
       " 'setup.py',\n",
       " 'tests',\n",
       " 'tools',\n",
       " 'mmpose.egg-info',\n",
       " 'checkpoints',\n",
       " 'outputs',\n",
       " 'data',\n",
       " 'hrnet_w48_coco_256x192-b9e0b3ab_20200708.pth',\n",
       " 'td-hm_hrnet-w48_8xb32-210e_coco-256x192.py',\n",
       " 'vis_results.jpg',\n",
       " 'vis_results_cat',\n",
       " 'vis_results_dog']"
      ]
     },
     "execution_count": 1,
     "metadata": {},
     "output_type": "execute_result"
    }
   ],
   "source": [
    "import os\n",
    "os.chdir('mmpose')\n",
    "os.listdir()"
   ]
  },
  {
   "cell_type": "markdown",
   "id": "3a2699dd-a413-47bb-8511-7059250106d7",
   "metadata": {},
   "source": [
    "## 安装工具包（两分钟左右）"
   ]
  },
  {
   "cell_type": "code",
   "execution_count": 2,
   "id": "32734600-dd09-4e57-8304-8e7b108fa90e",
   "metadata": {},
   "outputs": [
    {
     "name": "stdout",
     "output_type": "stream",
     "text": [
      "Looking in indexes: https://pypi.tuna.tsinghua.edu.cn/simple\n",
      "Requirement already satisfied: face_recognition in /environment/miniconda3/lib/python3.7/site-packages (1.3.0)\n",
      "Requirement already satisfied: dlib>=19.7 in /environment/miniconda3/lib/python3.7/site-packages (from face_recognition) (19.24.0)\n",
      "Requirement already satisfied: Click>=6.0 in /environment/miniconda3/lib/python3.7/site-packages (from face_recognition) (7.1.2)\n",
      "Requirement already satisfied: numpy in /environment/miniconda3/lib/python3.7/site-packages (from face_recognition) (1.21.4)\n",
      "Requirement already satisfied: Pillow in /environment/miniconda3/lib/python3.7/site-packages (from face_recognition) (8.4.0)\n",
      "Requirement already satisfied: face-recognition-models>=0.3.0 in /environment/miniconda3/lib/python3.7/site-packages (from face_recognition) (0.3.0)\n"
     ]
    }
   ],
   "source": [
    "!pip3 install face_recognition -i https://pypi.tuna.tsinghua.edu.cn/simple\n",
    "#更多face_recognition的信息，查看中文文档https://github.com/ageitgey/face_recognition/blob/master/README_Simplified_Chinese.md"
   ]
  },
  {
   "cell_type": "markdown",
   "id": "00e753af-c6f4-41cc-bf5e-fc2fea7f80cd",
   "metadata": {},
   "source": [
    "## 2D人脸图片演示"
   ]
  },
  {
   "cell_type": "code",
   "execution_count": 3,
   "id": "e6431f7b-7b9f-4899-b3ec-b254cf56f99a",
   "metadata": {},
   "outputs": [
    {
     "name": "stdout",
     "output_type": "stream",
     "text": [
      "02/01 16:08:26 - mmengine - \u001b[5m\u001b[4m\u001b[33mWARNING\u001b[0m - The \"model\" registry in mmpose did not set import location. Fallback to call `mmpose.utils.register_all_modules` instead.\n",
      "02/01 16:08:26 - mmengine - \u001b[5m\u001b[4m\u001b[33mWARNING\u001b[0m - The \"KEYPOINT_CODECS\" registry in mmpose did not set import location. Fallback to call `mmpose.utils.register_all_modules` instead.\n",
      "Loads checkpoint by http backend from path: https://download.openmmlab.com/mmpose/face/hrnetv2/hrnetv2_w18_aflw_256x256-f2bbc62b_20210125.pth\n",
      "Downloading: \"https://download.openmmlab.com/mmpose/face/hrnetv2/hrnetv2_w18_aflw_256x256-f2bbc62b_20210125.pth\" to /home/featurize/.cache/torch/hub/checkpoints/hrnetv2_w18_aflw_256x256-f2bbc62b_20210125.pth\n",
      "100%|██████████████████████████████████████| 37.2M/37.2M [00:11<00:00, 3.30MB/s]\n",
      "02/01 16:08:39 - mmengine - \u001b[5m\u001b[4m\u001b[33mWARNING\u001b[0m - The \"dataset\" registry in mmpose did not set import location. Fallback to call `mmpose.utils.register_all_modules` instead.\n",
      "02/01 16:08:45 - mmengine - \u001b[5m\u001b[4m\u001b[33mWARNING\u001b[0m - The \"visualizer\" registry in mmpose did not set import location. Fallback to call `mmpose.utils.register_all_modules` instead.\n",
      "/environment/miniconda3/lib/python3.7/site-packages/mmengine/visualization/visualizer.py:163: UserWarning: `Visualizer` backend is not initialized because save_dir is None.\n",
      "  warnings.warn('`Visualizer` backend is not initialized '\n",
      "02/01 16:08:45 - mmengine - \u001b[5m\u001b[4m\u001b[33mWARNING\u001b[0m - The \"transform\" registry in mmpose did not set import location. Fallback to call `mmpose.utils.register_all_modules` instead.\n"
     ]
    }
   ],
   "source": [
    "!python demo/topdown_face_demo.py \\\n",
    "    configs/face_2d_keypoint/topdown_heatmap/aflw/td-hm_hrnetv2-w18_8xb64-60e_aflw-256x256.py \\\n",
    "    https://download.openmmlab.com/mmpose/face/hrnetv2/hrnetv2_w18_aflw_256x256-f2bbc62b_20210125.pth \\\n",
    "    --input tests/data/cofw/001766.jpg \\\n",
    "    --draw-heatmap --output-root vis_results_face"
   ]
  },
  {
   "cell_type": "markdown",
   "id": "cb35aeba-6bdb-4865-93d1-57777c7a22d2",
   "metadata": {},
   "source": [
    "## 2D人脸视频演示"
   ]
  },
  {
   "cell_type": "code",
   "execution_count": 4,
   "id": "70c92164-8ba6-4a99-9ef0-29cf51338a2f",
   "metadata": {},
   "outputs": [
    {
     "name": "stdout",
     "output_type": "stream",
     "text": [
      "02/01 16:08:52 - mmengine - \u001b[5m\u001b[4m\u001b[33mWARNING\u001b[0m - The \"model\" registry in mmpose did not set import location. Fallback to call `mmpose.utils.register_all_modules` instead.\n",
      "02/01 16:08:53 - mmengine - \u001b[5m\u001b[4m\u001b[33mWARNING\u001b[0m - The \"KEYPOINT_CODECS\" registry in mmpose did not set import location. Fallback to call `mmpose.utils.register_all_modules` instead.\n",
      "Loads checkpoint by http backend from path: https://download.openmmlab.com/mmpose/face/hrnetv2/hrnetv2_w18_aflw_256x256-f2bbc62b_20210125.pth\n",
      "02/01 16:08:53 - mmengine - \u001b[5m\u001b[4m\u001b[33mWARNING\u001b[0m - The \"dataset\" registry in mmpose did not set import location. Fallback to call `mmpose.utils.register_all_modules` instead.\n",
      "02/01 16:09:00 - mmengine - \u001b[5m\u001b[4m\u001b[33mWARNING\u001b[0m - The \"visualizer\" registry in mmpose did not set import location. Fallback to call `mmpose.utils.register_all_modules` instead.\n",
      "/environment/miniconda3/lib/python3.7/site-packages/mmengine/visualization/visualizer.py:163: UserWarning: `Visualizer` backend is not initialized because save_dir is None.\n",
      "  warnings.warn('`Visualizer` backend is not initialized '\n",
      "[                                                  ] 0/60, elapsed: 0s, ETA:02/01 16:09:02 - mmengine - \u001b[5m\u001b[4m\u001b[33mWARNING\u001b[0m - The \"transform\" registry in mmpose did not set import location. Fallback to call `mmpose.utils.register_all_modules` instead.\n",
      "[>>>>>>>>>>>>>>>>>>>>>>>>>>>>>> ] 59/60, 0.4 task/s, elapsed: 144s, ETA:     2s"
     ]
    }
   ],
   "source": [
    "!python demo/topdown_face_demo.py \\\n",
    "    configs/face_2d_keypoint/topdown_heatmap/aflw/td-hm_hrnetv2-w18_8xb64-60e_aflw-256x256.py \\\n",
    "    https://download.openmmlab.com/mmpose/face/hrnetv2/hrnetv2_w18_aflw_256x256-f2bbc62b_20210125.pth \\\n",
    "    --input data/face_child.mp4 \\\n",
    "    --show --draw-heatmap --output-root vis_results_face_child"
   ]
  }
 ],
 "metadata": {
  "kernelspec": {
   "display_name": "Python 3 (ipykernel)",
   "language": "python",
   "name": "python3"
  },
  "language_info": {
   "codemirror_mode": {
    "name": "ipython",
    "version": 3
   },
   "file_extension": ".py",
   "mimetype": "text/x-python",
   "name": "python",
   "nbconvert_exporter": "python",
   "pygments_lexer": "ipython3",
   "version": "3.7.10"
  }
 },
 "nbformat": 4,
 "nbformat_minor": 5
}
