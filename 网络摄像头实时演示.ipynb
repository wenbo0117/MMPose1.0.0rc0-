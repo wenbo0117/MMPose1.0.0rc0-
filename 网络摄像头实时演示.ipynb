{
 "cells": [
  {
   "cell_type": "markdown",
   "id": "02c468f7-8618-40a7-9163-352ad7e0573d",
   "metadata": {},
   "source": [
    "## 进入 MMPose 主目录"
   ]
  },
  {
   "cell_type": "code",
   "execution_count": 1,
   "id": "a04589d1-dec9-45f1-87a7-0c4c02428806",
   "metadata": {},
   "outputs": [
    {
     "data": {
      "text/plain": [
       "['.git',\n",
       " '.circleci',\n",
       " '.dev_scripts',\n",
       " '.github',\n",
       " '.gitignore',\n",
       " '.pre-commit-config.yaml',\n",
       " '.pylintrc',\n",
       " '.readthedocs.yml',\n",
       " 'CITATION.cff',\n",
       " 'LICENSE',\n",
       " 'MANIFEST.in',\n",
       " 'README.md',\n",
       " 'README_CN.md',\n",
       " 'configs',\n",
       " 'demo',\n",
       " 'docker',\n",
       " 'docs',\n",
       " 'mmpose',\n",
       " 'model-index.yml',\n",
       " 'pytest.ini',\n",
       " 'requirements.txt',\n",
       " 'requirements',\n",
       " 'resources',\n",
       " 'setup.cfg',\n",
       " 'setup.py',\n",
       " 'tests',\n",
       " 'tools',\n",
       " 'mmpose.egg-info',\n",
       " 'checkpoints',\n",
       " 'outputs',\n",
       " 'data',\n",
       " 'hrnet_w48_coco_256x192-b9e0b3ab_20200708.pth',\n",
       " 'td-hm_hrnet-w48_8xb32-210e_coco-256x192.py',\n",
       " 'vis_results.jpg',\n",
       " 'vis_results_cat',\n",
       " 'vis_results_dog',\n",
       " 'vis_results_face',\n",
       " 'vis_results_face_child',\n",
       " 'vis_results_hand',\n",
       " 'vis_results_handvideo',\n",
       " 'vis_results_wholebody.jpg',\n",
       " '.ipynb_checkpoints',\n",
       " 'vis_results_',\n",
       " 'vis_results_dance']"
      ]
     },
     "execution_count": 1,
     "metadata": {},
     "output_type": "execute_result"
    }
   ],
   "source": [
    "import os\n",
    "os.chdir('mmpose')\n",
    "os.listdir()"
   ]
  },
  {
   "cell_type": "markdown",
   "id": "b7bd2632-c85e-4f1d-9865-7f6132d3ae7f",
   "metadata": {},
   "source": [
    "## 测试摄像头"
   ]
  },
  {
   "cell_type": "code",
   "execution_count": null,
   "id": "8df6cdd6-8dbd-46f4-85b8-60dcf3b523c0",
   "metadata": {},
   "outputs": [],
   "source": [
    "# 运行后按 q 键退出 \n",
    "!python demo/webcam_demo.py --config demo/webcam_cfg/test_camera.py"
   ]
  },
  {
   "cell_type": "markdown",
   "id": "f03b3496-19d4-47cd-9516-9be28397a5a7",
   "metadata": {},
   "source": [
    "## 墨镜、大眼睛特效"
   ]
  },
  {
   "cell_type": "code",
   "execution_count": null,
   "id": "cb6803c3-d904-45cd-bb82-776f686b822a",
   "metadata": {},
   "outputs": [],
   "source": [
    "# 使用cpu运行\n",
    "!python demo/webcam_demo.py --cpu"
   ]
  }
 ],
 "metadata": {
  "kernelspec": {
   "display_name": "Python 3 (ipykernel)",
   "language": "python",
   "name": "python3"
  },
  "language_info": {
   "codemirror_mode": {
    "name": "ipython",
    "version": 3
   },
   "file_extension": ".py",
   "mimetype": "text/x-python",
   "name": "python",
   "nbconvert_exporter": "python",
   "pygments_lexer": "ipython3",
   "version": "3.7.10"
  }
 },
 "nbformat": 4,
 "nbformat_minor": 5
}
